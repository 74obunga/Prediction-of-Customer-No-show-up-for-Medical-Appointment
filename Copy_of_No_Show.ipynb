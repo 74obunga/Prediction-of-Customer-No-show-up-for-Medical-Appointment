{
  "nbformat": 4,
  "nbformat_minor": 0,
  "metadata": {
    "colab": {
      "provenance": [],
      "toc_visible": true,
      "include_colab_link": true
    },
    "kernelspec": {
      "name": "python3",
      "display_name": "Python 3"
    },
    "language_info": {
      "name": "python"
    }
  },
  "cells": [
    {
      "cell_type": "markdown",
      "metadata": {
        "id": "view-in-github",
        "colab_type": "text"
      },
      "source": [
        "<a href=\"https://colab.research.google.com/github/74obunga/Prediction-of-Customer-No-show-up-for-Medical-Appointment/blob/main/Copy_of_No_Show.ipynb\" target=\"_parent\"><img src=\"https://colab.research.google.com/assets/colab-badge.svg\" alt=\"Open In Colab\"/></a>"
      ]
    },
    {
      "cell_type": "markdown",
      "source": [
        "📘 **Introduction: Patient No-Show Prediction using CRISP-DM**\n",
        "\n",
        "\n",
        "This notebook Follows the CRISP-DM (Cross-Industry Standard Process for Data Mining) Process to train a Machine Learning model that predicts whether a patient will not show up for medical appointment.\n",
        "We use real world dataset with historical records of appointment logistics to train a predictive model using , Python, sci-kit Learn and Streamlit. The model can be deployed for use as a real indusrial solution.\n",
        "\n",
        "1. **Business Understanding**- Our goal is to solve a day to day real world problem in healthcare. Missed medical appointments can cause resource wastage and delayed care intervention. Being able to predict weather a patient is likely not show up will help healthcare providers to ensure targeted reminders or book carry out effective boooking.\n",
        "\n",
        "**2. Data Understanding** -  We perform data exploration to gain key understanding insights of the the patient appointments across various healthcare facilities in Brazil. We analyze main attributes like medical conditions gender, age, SMS received, waiting days and neighbourhood.\n",
        "Key steps include:\n",
        " Load data\n",
        " Check datatypes and basic descriptive statistics.\n",
        " Visualize the distributions of various features and correlations.\n",
        "\n",
        "\n",
        "3. **Data Preparation**- We prepare the data for modeling by cleaning and transforming it, this include:\n",
        "\n",
        "Encoding categorical variables (gender, SMS received etc) into numerical features.\n",
        "\n",
        "Creating waiting days feature through calculations as time between scheduuling date and appointment date.\n",
        "\n",
        "Dropping Irrelevant columns such as patientID which may not be used in model training.\n",
        "\n",
        "Balancing the the imbalanced categories and scaling numerical varaibles.\n",
        "\n",
        "4.** Modeling** - We train several models to predict no-show. these are models suitable for categorical dataset and applicable in healthcare set-up:\n",
        ". Logistic Regression\n",
        ". Random Forest\n",
        ". Decision Tree\n",
        ". XGBoost\n",
        "\n",
        "\n",
        "\n",
        "We use train_test_split to split our ready data into training set and testing set.\n",
        "We use metrics such as **accuracy, recall, precison and F1-Score **as evaluation metrics to determine the best model for the task.\n",
        "\n",
        "\n",
        "5. **Evaluation-** We evaluated the best performed model further:\n",
        "\n",
        "Analysis using confusion matrix to establish false positives/negatives.\n",
        "\n",
        "Precision and recall tradeoffs\n",
        "\n",
        "We also probed the model interpretability using feature importance.\n",
        "\n",
        "\n",
        "6. **Deployment-** The final step is deploying the model as a web app using streamlit. This is User Interface tool that allows users to input information and get prediction instantly:\n",
        "\n",
        "Saving the modle with joblib\n",
        "\n",
        "Creating an app.py file with steamlit UI\n",
        "\n",
        "Deploying using ngrok for accessing remotely.\n"
      ],
      "metadata": {
        "id": "_zYjew0saWpJ"
      }
    },
    {
      "cell_type": "markdown",
      "source": [
        "![CRINDUSTRY.png](data:image/png;base64,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)"
      ],
      "metadata": {
        "id": "9Mv5Qm4_YHnn"
      }
    },
    {
      "cell_type": "markdown",
      "source": [
        "Presentation Day – [Last class]\n",
        "\n",
        "You are part of a data science team working with a county government health department to predict patient no-shows in scheduled clinic visits, with the goal of improving healthcare delivery and reducing wasted resources.\n",
        "\n",
        "\n",
        "Using the CRISP-DM (Cross-Industry Standard Process for Data Mining) methodology and any publicly available real-world dataset (e.g.,  Kaggle No-Show Appointments), your team (max 3 members) is required to develop and deploy a machine learning model that can predict whether a patient will show up or not\n"
      ],
      "metadata": {
        "id": "jfgKWgEUOiSz"
      }
    },
    {
      "cell_type": "markdown",
      "source": [
        "\n",
        "a)\t**Definition of the problem.**\n",
        "\n",
        "\n",
        "The county government health department is experiencing a significant number of missed clinic appointments by patients. The patients' no-show results in inefficient use of the clinic resources and disrupted healthcare planning.\n"
      ],
      "metadata": {
        "id": "fq6uUTAXQWrv"
      }
    },
    {
      "cell_type": "markdown",
      "source": [
        "\n",
        "b)\t**Business objectives**\n",
        "\n",
        "\n",
        "●\tTo create a machine learning model that will accurately predict patient attendance thus reducing missed medical appointments alias no shows.\n",
        "\n",
        "●\tReducing the number of missed appointments by patients through automated SMS reminders for patients who pose a low risk of not showing up for their appointment and scheduling appointment reminder calls to the clients who are at high risk of missing their appointments with mandatory confirmation of 48 hours  to reduce loss of revenue.\n",
        "\n",
        "●\tAccurately predicting no-shows and rescheduling the appointments to other available patients reduce their wait time to access medical services which improves customer satisfaction and healthcare operations efficiency since there are no operational disruptions.\n",
        "\n",
        "●\tOptimise resource allocation to appointments to reduce health department buden on administrative cost as well as operational expenses, that is water, power bill and staffing cost. This enables the facility to operate efficiently since resources are not wasted. For instance, if the healthcare facility has 5 doctors, it should ensure that on busy days there are more doctors to handle the patients than on less business days.\n",
        "\n",
        "c)\t**Potential Impact**\n",
        "\n",
        "●\tImproved service delivery\n",
        "\n",
        "●\tImproved revenue collection\n",
        "\n",
        "●\tBetter utilization of limited healthcare resources.\n",
        "\n",
        "●\tReduced idle time for doctors and nurses.\n"
      ],
      "metadata": {
        "id": "PSazI5j2WNn9"
      }
    },
    {
      "cell_type": "markdown",
      "source": [
        "\n",
        "\n",
        "Key performance indicators to asses project Success."
      ],
      "metadata": {
        "id": "VWtcRz64b9yo"
      }
    },
    {
      "cell_type": "markdown",
      "source": [
        "d)\t**KPI for Project Success**\n",
        "\n",
        "![KPI2.PNG](data:image/png;base64,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)"
      ],
      "metadata": {
        "id": "MRE2gDxXVX5X"
      }
    },
    {
      "cell_type": "markdown",
      "source": [
        "![Error Analysis88.PNG](data:image/png;base64,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)"
      ],
      "metadata": {
        "id": "AQt0AZEbNKrC"
      }
    },
    {
      "cell_type": "markdown",
      "source": [
        "2. **Data Understanding (5 marks)**\n",
        "\n",
        "\n",
        "This dataset was obtained from kaggle.com. The data is about patients' medical appointment across various public healthcare facilities In Brazil.\n",
        "It consits of 110,527  records of patients appointment with various features from demographic details, health and appointment logidtics.\n",
        "\n",
        "\n",
        "The main Variable include :\n",
        "\n",
        "Demographics: Age, Gender, Neighbourhood\n",
        "\n",
        "Health Indicators: Hypertension, Diabetes, Alcoholism\n",
        "\n",
        "Appointment Details: Date scheduled, Appointment date, SMS reminders\n",
        "\n",
        "Target Variable: No-show — whether the patient missed the appointment"
      ],
      "metadata": {
        "id": "4F2cpP9TQ75S"
      }
    },
    {
      "cell_type": "code",
      "execution_count": 1,
      "metadata": {
        "id": "Eq74nMJQok42"
      },
      "outputs": [],
      "source": [
        "# Importing Required Libraries\n",
        "\n",
        "import pandas as pd\n",
        "import numpy as np\n",
        "import matplotlib.pyplot as plt\n",
        "import seaborn as sns"
      ]
    },
    {
      "cell_type": "code",
      "source": [
        "#Loading the Data\n",
        "\n",
        "df=pd.read_csv('noshow.csv')"
      ],
      "metadata": {
        "id": "FYvwG5rlqGX5"
      },
      "execution_count": 2,
      "outputs": []
    },
    {
      "cell_type": "code",
      "source": [
        "# Previewing the First 5 Row from the Data\n",
        "df.head()"
      ],
      "metadata": {
        "colab": {
          "base_uri": "https://localhost:8080/",
          "height": 206
        },
        "id": "Rk7nO1IMtK2_",
        "outputId": "a2a361be-cfc8-4ee2-dcbe-a29553f6e734"
      },
      "execution_count": 3,
      "outputs": [
        {
          "output_type": "execute_result",
          "data": {
            "text/plain": [
              "      PatientId  AppointmentID Gender          ScheduledDay  \\\n",
              "0  2.987250e+13        5642903      F  2016-04-29T18:38:08Z   \n",
              "1  5.589978e+14        5642503      M  2016-04-29T16:08:27Z   \n",
              "2  4.262962e+12        5642549      F  2016-04-29T16:19:04Z   \n",
              "3  8.679512e+11        5642828      F  2016-04-29T17:29:31Z   \n",
              "4  8.841186e+12        5642494      F  2016-04-29T16:07:23Z   \n",
              "\n",
              "         AppointmentDay  Age      Neighbourhood  Scholarship  Hipertension  \\\n",
              "0  2016-04-29T00:00:00Z   62    JARDIM DA PENHA            0             1   \n",
              "1  2016-04-29T00:00:00Z   56    JARDIM DA PENHA            0             0   \n",
              "2  2016-04-29T00:00:00Z   62      MATA DA PRAIA            0             0   \n",
              "3  2016-04-29T00:00:00Z    8  PONTAL DE CAMBURI            0             0   \n",
              "4  2016-04-29T00:00:00Z   56    JARDIM DA PENHA            0             1   \n",
              "\n",
              "   Diabetes  Alcoholism  Handcap  SMS_received No-show  \n",
              "0         0           0        0             0      No  \n",
              "1         0           0        0             0      No  \n",
              "2         0           0        0             0      No  \n",
              "3         0           0        0             0      No  \n",
              "4         1           0        0             0      No  "
            ],
            "text/html": [
              "\n",
              "  <div id=\"df-3fea44c3-7f6e-4e6a-b923-87aa1c7ebdd0\" class=\"colab-df-container\">\n",
              "    <div>\n",
              "<style scoped>\n",
              "    .dataframe tbody tr th:only-of-type {\n",
              "        vertical-align: middle;\n",
              "    }\n",
              "\n",
              "    .dataframe tbody tr th {\n",
              "        vertical-align: top;\n",
              "    }\n",
              "\n",
              "    .dataframe thead th {\n",
              "        text-align: right;\n",
              "    }\n",
              "</style>\n",
              "<table border=\"1\" class=\"dataframe\">\n",
              "  <thead>\n",
              "    <tr style=\"text-align: right;\">\n",
              "      <th></th>\n",
              "      <th>PatientId</th>\n",
              "      <th>AppointmentID</th>\n",
              "      <th>Gender</th>\n",
              "      <th>ScheduledDay</th>\n",
              "      <th>AppointmentDay</th>\n",
              "      <th>Age</th>\n",
              "      <th>Neighbourhood</th>\n",
              "      <th>Scholarship</th>\n",
              "      <th>Hipertension</th>\n",
              "      <th>Diabetes</th>\n",
              "      <th>Alcoholism</th>\n",
              "      <th>Handcap</th>\n",
              "      <th>SMS_received</th>\n",
              "      <th>No-show</th>\n",
              "    </tr>\n",
              "  </thead>\n",
              "  <tbody>\n",
              "    <tr>\n",
              "      <th>0</th>\n",
              "      <td>2.987250e+13</td>\n",
              "      <td>5642903</td>\n",
              "      <td>F</td>\n",
              "      <td>2016-04-29T18:38:08Z</td>\n",
              "      <td>2016-04-29T00:00:00Z</td>\n",
              "      <td>62</td>\n",
              "      <td>JARDIM DA PENHA</td>\n",
              "      <td>0</td>\n",
              "      <td>1</td>\n",
              "      <td>0</td>\n",
              "      <td>0</td>\n",
              "      <td>0</td>\n",
              "      <td>0</td>\n",
              "      <td>No</td>\n",
              "    </tr>\n",
              "    <tr>\n",
              "      <th>1</th>\n",
              "      <td>5.589978e+14</td>\n",
              "      <td>5642503</td>\n",
              "      <td>M</td>\n",
              "      <td>2016-04-29T16:08:27Z</td>\n",
              "      <td>2016-04-29T00:00:00Z</td>\n",
              "      <td>56</td>\n",
              "      <td>JARDIM DA PENHA</td>\n",
              "      <td>0</td>\n",
              "      <td>0</td>\n",
              "      <td>0</td>\n",
              "      <td>0</td>\n",
              "      <td>0</td>\n",
              "      <td>0</td>\n",
              "      <td>No</td>\n",
              "    </tr>\n",
              "    <tr>\n",
              "      <th>2</th>\n",
              "      <td>4.262962e+12</td>\n",
              "      <td>5642549</td>\n",
              "      <td>F</td>\n",
              "      <td>2016-04-29T16:19:04Z</td>\n",
              "      <td>2016-04-29T00:00:00Z</td>\n",
              "      <td>62</td>\n",
              "      <td>MATA DA PRAIA</td>\n",
              "      <td>0</td>\n",
              "      <td>0</td>\n",
              "      <td>0</td>\n",
              "      <td>0</td>\n",
              "      <td>0</td>\n",
              "      <td>0</td>\n",
              "      <td>No</td>\n",
              "    </tr>\n",
              "    <tr>\n",
              "      <th>3</th>\n",
              "      <td>8.679512e+11</td>\n",
              "      <td>5642828</td>\n",
              "      <td>F</td>\n",
              "      <td>2016-04-29T17:29:31Z</td>\n",
              "      <td>2016-04-29T00:00:00Z</td>\n",
              "      <td>8</td>\n",
              "      <td>PONTAL DE CAMBURI</td>\n",
              "      <td>0</td>\n",
              "      <td>0</td>\n",
              "      <td>0</td>\n",
              "      <td>0</td>\n",
              "      <td>0</td>\n",
              "      <td>0</td>\n",
              "      <td>No</td>\n",
              "    </tr>\n",
              "    <tr>\n",
              "      <th>4</th>\n",
              "      <td>8.841186e+12</td>\n",
              "      <td>5642494</td>\n",
              "      <td>F</td>\n",
              "      <td>2016-04-29T16:07:23Z</td>\n",
              "      <td>2016-04-29T00:00:00Z</td>\n",
              "      <td>56</td>\n",
              "      <td>JARDIM DA PENHA</td>\n",
              "      <td>0</td>\n",
              "      <td>1</td>\n",
              "      <td>1</td>\n",
              "      <td>0</td>\n",
              "      <td>0</td>\n",
              "      <td>0</td>\n",
              "      <td>No</td>\n",
              "    </tr>\n",
              "  </tbody>\n",
              "</table>\n",
              "</div>\n",
              "    <div class=\"colab-df-buttons\">\n",
              "\n",
              "  <div class=\"colab-df-container\">\n",
              "    <button class=\"colab-df-convert\" onclick=\"convertToInteractive('df-3fea44c3-7f6e-4e6a-b923-87aa1c7ebdd0')\"\n",
              "            title=\"Convert this dataframe to an interactive table.\"\n",
              "            style=\"display:none;\">\n",
              "\n",
              "  <svg xmlns=\"http://www.w3.org/2000/svg\" height=\"24px\" viewBox=\"0 -960 960 960\">\n",
              "    <path d=\"M120-120v-720h720v720H120Zm60-500h600v-160H180v160Zm220 220h160v-160H400v160Zm0 220h160v-160H400v160ZM180-400h160v-160H180v160Zm440 0h160v-160H620v160ZM180-180h160v-160H180v160Zm440 0h160v-160H620v160Z\"/>\n",
              "  </svg>\n",
              "    </button>\n",
              "\n",
              "  <style>\n",
              "    .colab-df-container {\n",
              "      display:flex;\n",
              "      gap: 12px;\n",
              "    }\n",
              "\n",
              "    .colab-df-convert {\n",
              "      background-color: #E8F0FE;\n",
              "      border: none;\n",
              "      border-radius: 50%;\n",
              "      cursor: pointer;\n",
              "      display: none;\n",
              "      fill: #1967D2;\n",
              "      height: 32px;\n",
              "      padding: 0 0 0 0;\n",
              "      width: 32px;\n",
              "    }\n",
              "\n",
              "    .colab-df-convert:hover {\n",
              "      background-color: #E2EBFA;\n",
              "      box-shadow: 0px 1px 2px rgba(60, 64, 67, 0.3), 0px 1px 3px 1px rgba(60, 64, 67, 0.15);\n",
              "      fill: #174EA6;\n",
              "    }\n",
              "\n",
              "    .colab-df-buttons div {\n",
              "      margin-bottom: 4px;\n",
              "    }\n",
              "\n",
              "    [theme=dark] .colab-df-convert {\n",
              "      background-color: #3B4455;\n",
              "      fill: #D2E3FC;\n",
              "    }\n",
              "\n",
              "    [theme=dark] .colab-df-convert:hover {\n",
              "      background-color: #434B5C;\n",
              "      box-shadow: 0px 1px 3px 1px rgba(0, 0, 0, 0.15);\n",
              "      filter: drop-shadow(0px 1px 2px rgba(0, 0, 0, 0.3));\n",
              "      fill: #FFFFFF;\n",
              "    }\n",
              "  </style>\n",
              "\n",
              "    <script>\n",
              "      const buttonEl =\n",
              "        document.querySelector('#df-3fea44c3-7f6e-4e6a-b923-87aa1c7ebdd0 button.colab-df-convert');\n",
              "      buttonEl.style.display =\n",
              "        google.colab.kernel.accessAllowed ? 'block' : 'none';\n",
              "\n",
              "      async function convertToInteractive(key) {\n",
              "        const element = document.querySelector('#df-3fea44c3-7f6e-4e6a-b923-87aa1c7ebdd0');\n",
              "        const dataTable =\n",
              "          await google.colab.kernel.invokeFunction('convertToInteractive',\n",
              "                                                    [key], {});\n",
              "        if (!dataTable) return;\n",
              "\n",
              "        const docLinkHtml = 'Like what you see? Visit the ' +\n",
              "          '<a target=\"_blank\" href=https://colab.research.google.com/notebooks/data_table.ipynb>data table notebook</a>'\n",
              "          + ' to learn more about interactive tables.';\n",
              "        element.innerHTML = '';\n",
              "        dataTable['output_type'] = 'display_data';\n",
              "        await google.colab.output.renderOutput(dataTable, element);\n",
              "        const docLink = document.createElement('div');\n",
              "        docLink.innerHTML = docLinkHtml;\n",
              "        element.appendChild(docLink);\n",
              "      }\n",
              "    </script>\n",
              "  </div>\n",
              "\n",
              "\n",
              "    <div id=\"df-19f07ab9-1930-4ad0-954c-a7774c78bd26\">\n",
              "      <button class=\"colab-df-quickchart\" onclick=\"quickchart('df-19f07ab9-1930-4ad0-954c-a7774c78bd26')\"\n",
              "                title=\"Suggest charts\"\n",
              "                style=\"display:none;\">\n",
              "\n",
              "<svg xmlns=\"http://www.w3.org/2000/svg\" height=\"24px\"viewBox=\"0 0 24 24\"\n",
              "     width=\"24px\">\n",
              "    <g>\n",
              "        <path d=\"M19 3H5c-1.1 0-2 .9-2 2v14c0 1.1.9 2 2 2h14c1.1 0 2-.9 2-2V5c0-1.1-.9-2-2-2zM9 17H7v-7h2v7zm4 0h-2V7h2v10zm4 0h-2v-4h2v4z\"/>\n",
              "    </g>\n",
              "</svg>\n",
              "      </button>\n",
              "\n",
              "<style>\n",
              "  .colab-df-quickchart {\n",
              "      --bg-color: #E8F0FE;\n",
              "      --fill-color: #1967D2;\n",
              "      --hover-bg-color: #E2EBFA;\n",
              "      --hover-fill-color: #174EA6;\n",
              "      --disabled-fill-color: #AAA;\n",
              "      --disabled-bg-color: #DDD;\n",
              "  }\n",
              "\n",
              "  [theme=dark] .colab-df-quickchart {\n",
              "      --bg-color: #3B4455;\n",
              "      --fill-color: #D2E3FC;\n",
              "      --hover-bg-color: #434B5C;\n",
              "      --hover-fill-color: #FFFFFF;\n",
              "      --disabled-bg-color: #3B4455;\n",
              "      --disabled-fill-color: #666;\n",
              "  }\n",
              "\n",
              "  .colab-df-quickchart {\n",
              "    background-color: var(--bg-color);\n",
              "    border: none;\n",
              "    border-radius: 50%;\n",
              "    cursor: pointer;\n",
              "    display: none;\n",
              "    fill: var(--fill-color);\n",
              "    height: 32px;\n",
              "    padding: 0;\n",
              "    width: 32px;\n",
              "  }\n",
              "\n",
              "  .colab-df-quickchart:hover {\n",
              "    background-color: var(--hover-bg-color);\n",
              "    box-shadow: 0 1px 2px rgba(60, 64, 67, 0.3), 0 1px 3px 1px rgba(60, 64, 67, 0.15);\n",
              "    fill: var(--button-hover-fill-color);\n",
              "  }\n",
              "\n",
              "  .colab-df-quickchart-complete:disabled,\n",
              "  .colab-df-quickchart-complete:disabled:hover {\n",
              "    background-color: var(--disabled-bg-color);\n",
              "    fill: var(--disabled-fill-color);\n",
              "    box-shadow: none;\n",
              "  }\n",
              "\n",
              "  .colab-df-spinner {\n",
              "    border: 2px solid var(--fill-color);\n",
              "    border-color: transparent;\n",
              "    border-bottom-color: var(--fill-color);\n",
              "    animation:\n",
              "      spin 1s steps(1) infinite;\n",
              "  }\n",
              "\n",
              "  @keyframes spin {\n",
              "    0% {\n",
              "      border-color: transparent;\n",
              "      border-bottom-color: var(--fill-color);\n",
              "      border-left-color: var(--fill-color);\n",
              "    }\n",
              "    20% {\n",
              "      border-color: transparent;\n",
              "      border-left-color: var(--fill-color);\n",
              "      border-top-color: var(--fill-color);\n",
              "    }\n",
              "    30% {\n",
              "      border-color: transparent;\n",
              "      border-left-color: var(--fill-color);\n",
              "      border-top-color: var(--fill-color);\n",
              "      border-right-color: var(--fill-color);\n",
              "    }\n",
              "    40% {\n",
              "      border-color: transparent;\n",
              "      border-right-color: var(--fill-color);\n",
              "      border-top-color: var(--fill-color);\n",
              "    }\n",
              "    60% {\n",
              "      border-color: transparent;\n",
              "      border-right-color: var(--fill-color);\n",
              "    }\n",
              "    80% {\n",
              "      border-color: transparent;\n",
              "      border-right-color: var(--fill-color);\n",
              "      border-bottom-color: var(--fill-color);\n",
              "    }\n",
              "    90% {\n",
              "      border-color: transparent;\n",
              "      border-bottom-color: var(--fill-color);\n",
              "    }\n",
              "  }\n",
              "</style>\n",
              "\n",
              "      <script>\n",
              "        async function quickchart(key) {\n",
              "          const quickchartButtonEl =\n",
              "            document.querySelector('#' + key + ' button');\n",
              "          quickchartButtonEl.disabled = true;  // To prevent multiple clicks.\n",
              "          quickchartButtonEl.classList.add('colab-df-spinner');\n",
              "          try {\n",
              "            const charts = await google.colab.kernel.invokeFunction(\n",
              "                'suggestCharts', [key], {});\n",
              "          } catch (error) {\n",
              "            console.error('Error during call to suggestCharts:', error);\n",
              "          }\n",
              "          quickchartButtonEl.classList.remove('colab-df-spinner');\n",
              "          quickchartButtonEl.classList.add('colab-df-quickchart-complete');\n",
              "        }\n",
              "        (() => {\n",
              "          let quickchartButtonEl =\n",
              "            document.querySelector('#df-19f07ab9-1930-4ad0-954c-a7774c78bd26 button');\n",
              "          quickchartButtonEl.style.display =\n",
              "            google.colab.kernel.accessAllowed ? 'block' : 'none';\n",
              "        })();\n",
              "      </script>\n",
              "    </div>\n",
              "\n",
              "    </div>\n",
              "  </div>\n"
            ],
            "application/vnd.google.colaboratory.intrinsic+json": {
              "type": "dataframe",
              "variable_name": "df"
            }
          },
          "metadata": {},
          "execution_count": 3
        }
      ]
    },
    {
      "cell_type": "markdown",
      "source": [
        "\n",
        "\n",
        "\n",
        "\n",
        "2b) Provide initial EDA: data types, missing values, distributions, outliers, and initial\n",
        "insights.\n",
        "• Include at least 2 types of visualizations and 2 statistical techniques (e.g., correlation\n",
        "analysis, summary statistics)."
      ],
      "metadata": {
        "id": "CW9ufaKbgXTf"
      }
    },
    {
      "cell_type": "markdown",
      "source": [
        "• Describe the dataset used and how it was sourced."
      ],
      "metadata": {
        "id": "Y7ip_tkLgimY"
      }
    },
    {
      "cell_type": "markdown",
      "source": [
        "Provide initial EDA: data types, missing values, distributions, outliers, and initial insights.\n",
        "\n",
        "\n",
        "Mix of numerical (Age, Wait Days),\n",
        "\n",
        "Binary categorical (Gender, SMS_received), and text (Neighbourhood)\n",
        "\n",
        "ScheduledDay and AppointmentDay are datetime strings, converted to datetime\n",
        "\n",
        "Missing Values"
      ],
      "metadata": {
        "id": "U5jiwlMogyVk"
      }
    },
    {
      "cell_type": "code",
      "source": [
        "#Check for missing values\n",
        "df.isnull().sum()"
      ],
      "metadata": {
        "colab": {
          "base_uri": "https://localhost:8080/",
          "height": 523
        },
        "id": "n0uN379Ttu6S",
        "outputId": "c63c3150-f562-4423-a45f-b3c51635e26c"
      },
      "execution_count": 4,
      "outputs": [
        {
          "output_type": "execute_result",
          "data": {
            "text/plain": [
              "PatientId         0\n",
              "AppointmentID     0\n",
              "Gender            0\n",
              "ScheduledDay      0\n",
              "AppointmentDay    0\n",
              "Age               0\n",
              "Neighbourhood     0\n",
              "Scholarship       0\n",
              "Hipertension      0\n",
              "Diabetes          0\n",
              "Alcoholism        0\n",
              "Handcap           0\n",
              "SMS_received      0\n",
              "No-show           0\n",
              "dtype: int64"
            ],
            "text/html": [
              "<div>\n",
              "<style scoped>\n",
              "    .dataframe tbody tr th:only-of-type {\n",
              "        vertical-align: middle;\n",
              "    }\n",
              "\n",
              "    .dataframe tbody tr th {\n",
              "        vertical-align: top;\n",
              "    }\n",
              "\n",
              "    .dataframe thead th {\n",
              "        text-align: right;\n",
              "    }\n",
              "</style>\n",
              "<table border=\"1\" class=\"dataframe\">\n",
              "  <thead>\n",
              "    <tr style=\"text-align: right;\">\n",
              "      <th></th>\n",
              "      <th>0</th>\n",
              "    </tr>\n",
              "  </thead>\n",
              "  <tbody>\n",
              "    <tr>\n",
              "      <th>PatientId</th>\n",
              "      <td>0</td>\n",
              "    </tr>\n",
              "    <tr>\n",
              "      <th>AppointmentID</th>\n",
              "      <td>0</td>\n",
              "    </tr>\n",
              "    <tr>\n",
              "      <th>Gender</th>\n",
              "      <td>0</td>\n",
              "    </tr>\n",
              "    <tr>\n",
              "      <th>ScheduledDay</th>\n",
              "      <td>0</td>\n",
              "    </tr>\n",
              "    <tr>\n",
              "      <th>AppointmentDay</th>\n",
              "      <td>0</td>\n",
              "    </tr>\n",
              "    <tr>\n",
              "      <th>Age</th>\n",
              "      <td>0</td>\n",
              "    </tr>\n",
              "    <tr>\n",
              "      <th>Neighbourhood</th>\n",
              "      <td>0</td>\n",
              "    </tr>\n",
              "    <tr>\n",
              "      <th>Scholarship</th>\n",
              "      <td>0</td>\n",
              "    </tr>\n",
              "    <tr>\n",
              "      <th>Hipertension</th>\n",
              "      <td>0</td>\n",
              "    </tr>\n",
              "    <tr>\n",
              "      <th>Diabetes</th>\n",
              "      <td>0</td>\n",
              "    </tr>\n",
              "    <tr>\n",
              "      <th>Alcoholism</th>\n",
              "      <td>0</td>\n",
              "    </tr>\n",
              "    <tr>\n",
              "      <th>Handcap</th>\n",
              "      <td>0</td>\n",
              "    </tr>\n",
              "    <tr>\n",
              "      <th>SMS_received</th>\n",
              "      <td>0</td>\n",
              "    </tr>\n",
              "    <tr>\n",
              "      <th>No-show</th>\n",
              "      <td>0</td>\n",
              "    </tr>\n",
              "  </tbody>\n",
              "</table>\n",
              "</div><br><label><b>dtype:</b> int64</label>"
            ]
          },
          "metadata": {},
          "execution_count": 4
        }
      ]
    },
    {
      "cell_type": "markdown",
      "source": [
        "Tere is one row of Missing values across several columns."
      ],
      "metadata": {
        "id": "dU5ammRCtB7K"
      }
    },
    {
      "cell_type": "code",
      "source": [
        "# Check for missing values\n",
        "print(df.isnull().sum())\n",
        "\n",
        "# Drop rows with missing values\n",
        "df.dropna(inplace=True)\n",
        "\n",
        "# Confirm removal\n",
        "print(\"After cleaning, shape:\", df.shape)\n"
      ],
      "metadata": {
        "colab": {
          "base_uri": "https://localhost:8080/"
        },
        "id": "GDmdJ-JK6Rpt",
        "outputId": "a51c4118-c3ae-4b36-d52e-2d777cb18b73"
      },
      "execution_count": 5,
      "outputs": [
        {
          "output_type": "stream",
          "name": "stdout",
          "text": [
            "PatientId         0\n",
            "AppointmentID     0\n",
            "Gender            0\n",
            "ScheduledDay      0\n",
            "AppointmentDay    0\n",
            "Age               0\n",
            "Neighbourhood     0\n",
            "Scholarship       0\n",
            "Hipertension      0\n",
            "Diabetes          0\n",
            "Alcoholism        0\n",
            "Handcap           0\n",
            "SMS_received      0\n",
            "No-show           0\n",
            "dtype: int64\n",
            "After cleaning, shape: (110527, 14)\n"
          ]
        }
      ]
    },
    {
      "cell_type": "markdown",
      "source": [
        "**Data types**"
      ],
      "metadata": {
        "id": "dybypdqfhGH3"
      }
    },
    {
      "cell_type": "code",
      "source": [
        "df.dtypes\n"
      ],
      "metadata": {
        "colab": {
          "base_uri": "https://localhost:8080/",
          "height": 523
        },
        "id": "A5jEnxYQhkuu",
        "outputId": "24488551-33dc-419e-f2ff-f9f776b675ed"
      },
      "execution_count": 6,
      "outputs": [
        {
          "output_type": "execute_result",
          "data": {
            "text/plain": [
              "PatientId         float64\n",
              "AppointmentID       int64\n",
              "Gender             object\n",
              "ScheduledDay       object\n",
              "AppointmentDay     object\n",
              "Age                 int64\n",
              "Neighbourhood      object\n",
              "Scholarship         int64\n",
              "Hipertension        int64\n",
              "Diabetes            int64\n",
              "Alcoholism          int64\n",
              "Handcap             int64\n",
              "SMS_received        int64\n",
              "No-show            object\n",
              "dtype: object"
            ],
            "text/html": [
              "<div>\n",
              "<style scoped>\n",
              "    .dataframe tbody tr th:only-of-type {\n",
              "        vertical-align: middle;\n",
              "    }\n",
              "\n",
              "    .dataframe tbody tr th {\n",
              "        vertical-align: top;\n",
              "    }\n",
              "\n",
              "    .dataframe thead th {\n",
              "        text-align: right;\n",
              "    }\n",
              "</style>\n",
              "<table border=\"1\" class=\"dataframe\">\n",
              "  <thead>\n",
              "    <tr style=\"text-align: right;\">\n",
              "      <th></th>\n",
              "      <th>0</th>\n",
              "    </tr>\n",
              "  </thead>\n",
              "  <tbody>\n",
              "    <tr>\n",
              "      <th>PatientId</th>\n",
              "      <td>float64</td>\n",
              "    </tr>\n",
              "    <tr>\n",
              "      <th>AppointmentID</th>\n",
              "      <td>int64</td>\n",
              "    </tr>\n",
              "    <tr>\n",
              "      <th>Gender</th>\n",
              "      <td>object</td>\n",
              "    </tr>\n",
              "    <tr>\n",
              "      <th>ScheduledDay</th>\n",
              "      <td>object</td>\n",
              "    </tr>\n",
              "    <tr>\n",
              "      <th>AppointmentDay</th>\n",
              "      <td>object</td>\n",
              "    </tr>\n",
              "    <tr>\n",
              "      <th>Age</th>\n",
              "      <td>int64</td>\n",
              "    </tr>\n",
              "    <tr>\n",
              "      <th>Neighbourhood</th>\n",
              "      <td>object</td>\n",
              "    </tr>\n",
              "    <tr>\n",
              "      <th>Scholarship</th>\n",
              "      <td>int64</td>\n",
              "    </tr>\n",
              "    <tr>\n",
              "      <th>Hipertension</th>\n",
              "      <td>int64</td>\n",
              "    </tr>\n",
              "    <tr>\n",
              "      <th>Diabetes</th>\n",
              "      <td>int64</td>\n",
              "    </tr>\n",
              "    <tr>\n",
              "      <th>Alcoholism</th>\n",
              "      <td>int64</td>\n",
              "    </tr>\n",
              "    <tr>\n",
              "      <th>Handcap</th>\n",
              "      <td>int64</td>\n",
              "    </tr>\n",
              "    <tr>\n",
              "      <th>SMS_received</th>\n",
              "      <td>int64</td>\n",
              "    </tr>\n",
              "    <tr>\n",
              "      <th>No-show</th>\n",
              "      <td>object</td>\n",
              "    </tr>\n",
              "  </tbody>\n",
              "</table>\n",
              "</div><br><label><b>dtype:</b> object</label>"
            ]
          },
          "metadata": {},
          "execution_count": 6
        }
      ]
    },
    {
      "cell_type": "markdown",
      "source": [],
      "metadata": {
        "id": "XI_Fh8qJXaP6"
      }
    },
    {
      "cell_type": "code",
      "source": [
        "#Check the data types in the data\n",
        "df.info()\n",
        "\n"
      ],
      "metadata": {
        "colab": {
          "base_uri": "https://localhost:8080/"
        },
        "id": "NAGseA0PzqFL",
        "outputId": "ad9d3c8e-216a-474f-fb11-942e78842d54"
      },
      "execution_count": 7,
      "outputs": [
        {
          "output_type": "stream",
          "name": "stdout",
          "text": [
            "<class 'pandas.core.frame.DataFrame'>\n",
            "RangeIndex: 110527 entries, 0 to 110526\n",
            "Data columns (total 14 columns):\n",
            " #   Column          Non-Null Count   Dtype  \n",
            "---  ------          --------------   -----  \n",
            " 0   PatientId       110527 non-null  float64\n",
            " 1   AppointmentID   110527 non-null  int64  \n",
            " 2   Gender          110527 non-null  object \n",
            " 3   ScheduledDay    110527 non-null  object \n",
            " 4   AppointmentDay  110527 non-null  object \n",
            " 5   Age             110527 non-null  int64  \n",
            " 6   Neighbourhood   110527 non-null  object \n",
            " 7   Scholarship     110527 non-null  int64  \n",
            " 8   Hipertension    110527 non-null  int64  \n",
            " 9   Diabetes        110527 non-null  int64  \n",
            " 10  Alcoholism      110527 non-null  int64  \n",
            " 11  Handcap         110527 non-null  int64  \n",
            " 12  SMS_received    110527 non-null  int64  \n",
            " 13  No-show         110527 non-null  object \n",
            "dtypes: float64(1), int64(8), object(5)\n",
            "memory usage: 11.8+ MB\n"
          ]
        }
      ]
    },
    {
      "cell_type": "code",
      "source": [
        "# Checking on the distribution of Data\n",
        "df.describe()"
      ],
      "metadata": {
        "colab": {
          "base_uri": "https://localhost:8080/",
          "height": 300
        },
        "id": "9UeelcF70G_T",
        "outputId": "648aa088-7374-442b-b52f-691f6f828b94"
      },
      "execution_count": 8,
      "outputs": [
        {
          "output_type": "execute_result",
          "data": {
            "text/plain": [
              "          PatientId  AppointmentID            Age    Scholarship  \\\n",
              "count  1.105270e+05   1.105270e+05  110527.000000  110527.000000   \n",
              "mean   1.474963e+14   5.675305e+06      37.088874       0.098266   \n",
              "std    2.560949e+14   7.129575e+04      23.110205       0.297675   \n",
              "min    3.921784e+04   5.030230e+06      -1.000000       0.000000   \n",
              "25%    4.172614e+12   5.640286e+06      18.000000       0.000000   \n",
              "50%    3.173184e+13   5.680573e+06      37.000000       0.000000   \n",
              "75%    9.439172e+13   5.725524e+06      55.000000       0.000000   \n",
              "max    9.999816e+14   5.790484e+06     115.000000       1.000000   \n",
              "\n",
              "        Hipertension       Diabetes     Alcoholism        Handcap  \\\n",
              "count  110527.000000  110527.000000  110527.000000  110527.000000   \n",
              "mean        0.197246       0.071865       0.030400       0.022248   \n",
              "std         0.397921       0.258265       0.171686       0.161543   \n",
              "min         0.000000       0.000000       0.000000       0.000000   \n",
              "25%         0.000000       0.000000       0.000000       0.000000   \n",
              "50%         0.000000       0.000000       0.000000       0.000000   \n",
              "75%         0.000000       0.000000       0.000000       0.000000   \n",
              "max         1.000000       1.000000       1.000000       4.000000   \n",
              "\n",
              "        SMS_received  \n",
              "count  110527.000000  \n",
              "mean        0.321026  \n",
              "std         0.466873  \n",
              "min         0.000000  \n",
              "25%         0.000000  \n",
              "50%         0.000000  \n",
              "75%         1.000000  \n",
              "max         1.000000  "
            ],
            "text/html": [
              "\n",
              "  <div id=\"df-20e03ab9-2fbd-4b3a-b834-9adef1688d65\" class=\"colab-df-container\">\n",
              "    <div>\n",
              "<style scoped>\n",
              "    .dataframe tbody tr th:only-of-type {\n",
              "        vertical-align: middle;\n",
              "    }\n",
              "\n",
              "    .dataframe tbody tr th {\n",
              "        vertical-align: top;\n",
              "    }\n",
              "\n",
              "    .dataframe thead th {\n",
              "        text-align: right;\n",
              "    }\n",
              "</style>\n",
              "<table border=\"1\" class=\"dataframe\">\n",
              "  <thead>\n",
              "    <tr style=\"text-align: right;\">\n",
              "      <th></th>\n",
              "      <th>PatientId</th>\n",
              "      <th>AppointmentID</th>\n",
              "      <th>Age</th>\n",
              "      <th>Scholarship</th>\n",
              "      <th>Hipertension</th>\n",
              "      <th>Diabetes</th>\n",
              "      <th>Alcoholism</th>\n",
              "      <th>Handcap</th>\n",
              "      <th>SMS_received</th>\n",
              "    </tr>\n",
              "  </thead>\n",
              "  <tbody>\n",
              "    <tr>\n",
              "      <th>count</th>\n",
              "      <td>1.105270e+05</td>\n",
              "      <td>1.105270e+05</td>\n",
              "      <td>110527.000000</td>\n",
              "      <td>110527.000000</td>\n",
              "      <td>110527.000000</td>\n",
              "      <td>110527.000000</td>\n",
              "      <td>110527.000000</td>\n",
              "      <td>110527.000000</td>\n",
              "      <td>110527.000000</td>\n",
              "    </tr>\n",
              "    <tr>\n",
              "      <th>mean</th>\n",
              "      <td>1.474963e+14</td>\n",
              "      <td>5.675305e+06</td>\n",
              "      <td>37.088874</td>\n",
              "      <td>0.098266</td>\n",
              "      <td>0.197246</td>\n",
              "      <td>0.071865</td>\n",
              "      <td>0.030400</td>\n",
              "      <td>0.022248</td>\n",
              "      <td>0.321026</td>\n",
              "    </tr>\n",
              "    <tr>\n",
              "      <th>std</th>\n",
              "      <td>2.560949e+14</td>\n",
              "      <td>7.129575e+04</td>\n",
              "      <td>23.110205</td>\n",
              "      <td>0.297675</td>\n",
              "      <td>0.397921</td>\n",
              "      <td>0.258265</td>\n",
              "      <td>0.171686</td>\n",
              "      <td>0.161543</td>\n",
              "      <td>0.466873</td>\n",
              "    </tr>\n",
              "    <tr>\n",
              "      <th>min</th>\n",
              "      <td>3.921784e+04</td>\n",
              "      <td>5.030230e+06</td>\n",
              "      <td>-1.000000</td>\n",
              "      <td>0.000000</td>\n",
              "      <td>0.000000</td>\n",
              "      <td>0.000000</td>\n",
              "      <td>0.000000</td>\n",
              "      <td>0.000000</td>\n",
              "      <td>0.000000</td>\n",
              "    </tr>\n",
              "    <tr>\n",
              "      <th>25%</th>\n",
              "      <td>4.172614e+12</td>\n",
              "      <td>5.640286e+06</td>\n",
              "      <td>18.000000</td>\n",
              "      <td>0.000000</td>\n",
              "      <td>0.000000</td>\n",
              "      <td>0.000000</td>\n",
              "      <td>0.000000</td>\n",
              "      <td>0.000000</td>\n",
              "      <td>0.000000</td>\n",
              "    </tr>\n",
              "    <tr>\n",
              "      <th>50%</th>\n",
              "      <td>3.173184e+13</td>\n",
              "      <td>5.680573e+06</td>\n",
              "      <td>37.000000</td>\n",
              "      <td>0.000000</td>\n",
              "      <td>0.000000</td>\n",
              "      <td>0.000000</td>\n",
              "      <td>0.000000</td>\n",
              "      <td>0.000000</td>\n",
              "      <td>0.000000</td>\n",
              "    </tr>\n",
              "    <tr>\n",
              "      <th>75%</th>\n",
              "      <td>9.439172e+13</td>\n",
              "      <td>5.725524e+06</td>\n",
              "      <td>55.000000</td>\n",
              "      <td>0.000000</td>\n",
              "      <td>0.000000</td>\n",
              "      <td>0.000000</td>\n",
              "      <td>0.000000</td>\n",
              "      <td>0.000000</td>\n",
              "      <td>1.000000</td>\n",
              "    </tr>\n",
              "    <tr>\n",
              "      <th>max</th>\n",
              "      <td>9.999816e+14</td>\n",
              "      <td>5.790484e+06</td>\n",
              "      <td>115.000000</td>\n",
              "      <td>1.000000</td>\n",
              "      <td>1.000000</td>\n",
              "      <td>1.000000</td>\n",
              "      <td>1.000000</td>\n",
              "      <td>4.000000</td>\n",
              "      <td>1.000000</td>\n",
              "    </tr>\n",
              "  </tbody>\n",
              "</table>\n",
              "</div>\n",
              "    <div class=\"colab-df-buttons\">\n",
              "\n",
              "  <div class=\"colab-df-container\">\n",
              "    <button class=\"colab-df-convert\" onclick=\"convertToInteractive('df-20e03ab9-2fbd-4b3a-b834-9adef1688d65')\"\n",
              "            title=\"Convert this dataframe to an interactive table.\"\n",
              "            style=\"display:none;\">\n",
              "\n",
              "  <svg xmlns=\"http://www.w3.org/2000/svg\" height=\"24px\" viewBox=\"0 -960 960 960\">\n",
              "    <path d=\"M120-120v-720h720v720H120Zm60-500h600v-160H180v160Zm220 220h160v-160H400v160Zm0 220h160v-160H400v160ZM180-400h160v-160H180v160Zm440 0h160v-160H620v160ZM180-180h160v-160H180v160Zm440 0h160v-160H620v160Z\"/>\n",
              "  </svg>\n",
              "    </button>\n",
              "\n",
              "  <style>\n",
              "    .colab-df-container {\n",
              "      display:flex;\n",
              "      gap: 12px;\n",
              "    }\n",
              "\n",
              "    .colab-df-convert {\n",
              "      background-color: #E8F0FE;\n",
              "      border: none;\n",
              "      border-radius: 50%;\n",
              "      cursor: pointer;\n",
              "      display: none;\n",
              "      fill: #1967D2;\n",
              "      height: 32px;\n",
              "      padding: 0 0 0 0;\n",
              "      width: 32px;\n",
              "    }\n",
              "\n",
              "    .colab-df-convert:hover {\n",
              "      background-color: #E2EBFA;\n",
              "      box-shadow: 0px 1px 2px rgba(60, 64, 67, 0.3), 0px 1px 3px 1px rgba(60, 64, 67, 0.15);\n",
              "      fill: #174EA6;\n",
              "    }\n",
              "\n",
              "    .colab-df-buttons div {\n",
              "      margin-bottom: 4px;\n",
              "    }\n",
              "\n",
              "    [theme=dark] .colab-df-convert {\n",
              "      background-color: #3B4455;\n",
              "      fill: #D2E3FC;\n",
              "    }\n",
              "\n",
              "    [theme=dark] .colab-df-convert:hover {\n",
              "      background-color: #434B5C;\n",
              "      box-shadow: 0px 1px 3px 1px rgba(0, 0, 0, 0.15);\n",
              "      filter: drop-shadow(0px 1px 2px rgba(0, 0, 0, 0.3));\n",
              "      fill: #FFFFFF;\n",
              "    }\n",
              "  </style>\n",
              "\n",
              "    <script>\n",
              "      const buttonEl =\n",
              "        document.querySelector('#df-20e03ab9-2fbd-4b3a-b834-9adef1688d65 button.colab-df-convert');\n",
              "      buttonEl.style.display =\n",
              "        google.colab.kernel.accessAllowed ? 'block' : 'none';\n",
              "\n",
              "      async function convertToInteractive(key) {\n",
              "        const element = document.querySelector('#df-20e03ab9-2fbd-4b3a-b834-9adef1688d65');\n",
              "        const dataTable =\n",
              "          await google.colab.kernel.invokeFunction('convertToInteractive',\n",
              "                                                    [key], {});\n",
              "        if (!dataTable) return;\n",
              "\n",
              "        const docLinkHtml = 'Like what you see? Visit the ' +\n",
              "          '<a target=\"_blank\" href=https://colab.research.google.com/notebooks/data_table.ipynb>data table notebook</a>'\n",
              "          + ' to learn more about interactive tables.';\n",
              "        element.innerHTML = '';\n",
              "        dataTable['output_type'] = 'display_data';\n",
              "        await google.colab.output.renderOutput(dataTable, element);\n",
              "        const docLink = document.createElement('div');\n",
              "        docLink.innerHTML = docLinkHtml;\n",
              "        element.appendChild(docLink);\n",
              "      }\n",
              "    </script>\n",
              "  </div>\n",
              "\n",
              "\n",
              "    <div id=\"df-a843e832-51d8-4ab7-9a45-ad7363e7123d\">\n",
              "      <button class=\"colab-df-quickchart\" onclick=\"quickchart('df-a843e832-51d8-4ab7-9a45-ad7363e7123d')\"\n",
              "                title=\"Suggest charts\"\n",
              "                style=\"display:none;\">\n",
              "\n",
              "<svg xmlns=\"http://www.w3.org/2000/svg\" height=\"24px\"viewBox=\"0 0 24 24\"\n",
              "     width=\"24px\">\n",
              "    <g>\n",
              "        <path d=\"M19 3H5c-1.1 0-2 .9-2 2v14c0 1.1.9 2 2 2h14c1.1 0 2-.9 2-2V5c0-1.1-.9-2-2-2zM9 17H7v-7h2v7zm4 0h-2V7h2v10zm4 0h-2v-4h2v4z\"/>\n",
              "    </g>\n",
              "</svg>\n",
              "      </button>\n",
              "\n",
              "<style>\n",
              "  .colab-df-quickchart {\n",
              "      --bg-color: #E8F0FE;\n",
              "      --fill-color: #1967D2;\n",
              "      --hover-bg-color: #E2EBFA;\n",
              "      --hover-fill-color: #174EA6;\n",
              "      --disabled-fill-color: #AAA;\n",
              "      --disabled-bg-color: #DDD;\n",
              "  }\n",
              "\n",
              "  [theme=dark] .colab-df-quickchart {\n",
              "      --bg-color: #3B4455;\n",
              "      --fill-color: #D2E3FC;\n",
              "      --hover-bg-color: #434B5C;\n",
              "      --hover-fill-color: #FFFFFF;\n",
              "      --disabled-bg-color: #3B4455;\n",
              "      --disabled-fill-color: #666;\n",
              "  }\n",
              "\n",
              "  .colab-df-quickchart {\n",
              "    background-color: var(--bg-color);\n",
              "    border: none;\n",
              "    border-radius: 50%;\n",
              "    cursor: pointer;\n",
              "    display: none;\n",
              "    fill: var(--fill-color);\n",
              "    height: 32px;\n",
              "    padding: 0;\n",
              "    width: 32px;\n",
              "  }\n",
              "\n",
              "  .colab-df-quickchart:hover {\n",
              "    background-color: var(--hover-bg-color);\n",
              "    box-shadow: 0 1px 2px rgba(60, 64, 67, 0.3), 0 1px 3px 1px rgba(60, 64, 67, 0.15);\n",
              "    fill: var(--button-hover-fill-color);\n",
              "  }\n",
              "\n",
              "  .colab-df-quickchart-complete:disabled,\n",
              "  .colab-df-quickchart-complete:disabled:hover {\n",
              "    background-color: var(--disabled-bg-color);\n",
              "    fill: var(--disabled-fill-color);\n",
              "    box-shadow: none;\n",
              "  }\n",
              "\n",
              "  .colab-df-spinner {\n",
              "    border: 2px solid var(--fill-color);\n",
              "    border-color: transparent;\n",
              "    border-bottom-color: var(--fill-color);\n",
              "    animation:\n",
              "      spin 1s steps(1) infinite;\n",
              "  }\n",
              "\n",
              "  @keyframes spin {\n",
              "    0% {\n",
              "      border-color: transparent;\n",
              "      border-bottom-color: var(--fill-color);\n",
              "      border-left-color: var(--fill-color);\n",
              "    }\n",
              "    20% {\n",
              "      border-color: transparent;\n",
              "      border-left-color: var(--fill-color);\n",
              "      border-top-color: var(--fill-color);\n",
              "    }\n",
              "    30% {\n",
              "      border-color: transparent;\n",
              "      border-left-color: var(--fill-color);\n",
              "      border-top-color: var(--fill-color);\n",
              "      border-right-color: var(--fill-color);\n",
              "    }\n",
              "    40% {\n",
              "      border-color: transparent;\n",
              "      border-right-color: var(--fill-color);\n",
              "      border-top-color: var(--fill-color);\n",
              "    }\n",
              "    60% {\n",
              "      border-color: transparent;\n",
              "      border-right-color: var(--fill-color);\n",
              "    }\n",
              "    80% {\n",
              "      border-color: transparent;\n",
              "      border-right-color: var(--fill-color);\n",
              "      border-bottom-color: var(--fill-color);\n",
              "    }\n",
              "    90% {\n",
              "      border-color: transparent;\n",
              "      border-bottom-color: var(--fill-color);\n",
              "    }\n",
              "  }\n",
              "</style>\n",
              "\n",
              "      <script>\n",
              "        async function quickchart(key) {\n",
              "          const quickchartButtonEl =\n",
              "            document.querySelector('#' + key + ' button');\n",
              "          quickchartButtonEl.disabled = true;  // To prevent multiple clicks.\n",
              "          quickchartButtonEl.classList.add('colab-df-spinner');\n",
              "          try {\n",
              "            const charts = await google.colab.kernel.invokeFunction(\n",
              "                'suggestCharts', [key], {});\n",
              "          } catch (error) {\n",
              "            console.error('Error during call to suggestCharts:', error);\n",
              "          }\n",
              "          quickchartButtonEl.classList.remove('colab-df-spinner');\n",
              "          quickchartButtonEl.classList.add('colab-df-quickchart-complete');\n",
              "        }\n",
              "        (() => {\n",
              "          let quickchartButtonEl =\n",
              "            document.querySelector('#df-a843e832-51d8-4ab7-9a45-ad7363e7123d button');\n",
              "          quickchartButtonEl.style.display =\n",
              "            google.colab.kernel.accessAllowed ? 'block' : 'none';\n",
              "        })();\n",
              "      </script>\n",
              "    </div>\n",
              "\n",
              "    </div>\n",
              "  </div>\n"
            ],
            "application/vnd.google.colaboratory.intrinsic+json": {
              "type": "dataframe",
              "summary": "{\n  \"name\": \"df\",\n  \"rows\": 8,\n  \"fields\": [\n    {\n      \"column\": \"PatientId\",\n      \"properties\": {\n        \"dtype\": \"number\",\n        \"std\": 338725104975282.06,\n        \"min\": 39217.84439,\n        \"max\": 999981631772427.0,\n        \"num_unique_values\": 8,\n        \"samples\": [\n          147496265710394.06,\n          31731838713978.0,\n          110527.0\n        ],\n        \"semantic_type\": \"\",\n        \"description\": \"\"\n      }\n    },\n    {\n      \"column\": \"AppointmentID\",\n      \"properties\": {\n        \"dtype\": \"number\",\n        \"std\": 2556706.763895736,\n        \"min\": 71295.75153966916,\n        \"max\": 5790484.0,\n        \"num_unique_values\": 8,\n        \"samples\": [\n          5675305.123426855,\n          5680573.0,\n          110527.0\n        ],\n        \"semantic_type\": \"\",\n        \"description\": \"\"\n      }\n    },\n    {\n      \"column\": \"Age\",\n      \"properties\": {\n        \"dtype\": \"number\",\n        \"std\": 39062.85658579293,\n        \"min\": -1.0,\n        \"max\": 110527.0,\n        \"num_unique_values\": 8,\n        \"samples\": [\n          37.08887421173107,\n          37.0,\n          110527.0\n        ],\n        \"semantic_type\": \"\",\n        \"description\": \"\"\n      }\n    },\n    {\n      \"column\": \"Scholarship\",\n      \"properties\": {\n        \"dtype\": \"number\",\n        \"std\": 39077.125097967306,\n        \"min\": 0.0,\n        \"max\": 110527.0,\n        \"num_unique_values\": 5,\n        \"samples\": [\n          0.09826558216544373,\n          1.0,\n          0.29767475410942307\n        ],\n        \"semantic_type\": \"\",\n        \"description\": \"\"\n      }\n    },\n    {\n      \"column\": \"Hipertension\",\n      \"properties\": {\n        \"dtype\": \"number\",\n        \"std\": 39077.11503551282,\n        \"min\": 0.0,\n        \"max\": 110527.0,\n        \"num_unique_values\": 5,\n        \"samples\": [\n          0.1972459218109602,\n          1.0,\n          0.39792134994753325\n        ],\n        \"semantic_type\": \"\",\n        \"description\": \"\"\n      }\n    },\n    {\n      \"column\": \"Diabetes\",\n      \"properties\": {\n        \"dtype\": \"number\",\n        \"std\": 39077.128421896545,\n        \"min\": 0.0,\n        \"max\": 110527.0,\n        \"num_unique_values\": 5,\n        \"samples\": [\n          0.07186479321794674,\n          1.0,\n          0.2582650735076741\n        ],\n        \"semantic_type\": \"\",\n        \"description\": \"\"\n      }\n    },\n    {\n      \"column\": \"Alcoholism\",\n      \"properties\": {\n        \"dtype\": \"number\",\n        \"std\": 39077.134889129266,\n        \"min\": 0.0,\n        \"max\": 110527.0,\n        \"num_unique_values\": 5,\n        \"samples\": [\n          0.030399811810688793,\n          1.0,\n          0.17168555541436223\n        ],\n        \"semantic_type\": \"\",\n        \"description\": \"\"\n      }\n    },\n    {\n      \"column\": \"Handcap\",\n      \"properties\": {\n        \"dtype\": \"number\",\n        \"std\": 39076.98431348663,\n        \"min\": 0.0,\n        \"max\": 110527.0,\n        \"num_unique_values\": 5,\n        \"samples\": [\n          0.022247957512643968,\n          4.0,\n          0.1615427258143932\n        ],\n        \"semantic_type\": \"\",\n        \"description\": \"\"\n      }\n    },\n    {\n      \"column\": \"SMS_received\",\n      \"properties\": {\n        \"dtype\": \"number\",\n        \"std\": 39077.054794184485,\n        \"min\": 0.0,\n        \"max\": 110527.0,\n        \"num_unique_values\": 5,\n        \"samples\": [\n          0.32102563174608917,\n          1.0,\n          0.46687273170178245\n        ],\n        \"semantic_type\": \"\",\n        \"description\": \"\"\n      }\n    }\n  ]\n}"
            }
          },
          "metadata": {},
          "execution_count": 8
        }
      ]
    },
    {
      "cell_type": "code",
      "source": [
        "# Checking the shape of the data\n",
        "df.shape"
      ],
      "metadata": {
        "colab": {
          "base_uri": "https://localhost:8080/"
        },
        "id": "Thhud9_mMQAV",
        "outputId": "7c50f921-be73-4b39-e485-845e64b4aa36"
      },
      "execution_count": 9,
      "outputs": [
        {
          "output_type": "execute_result",
          "data": {
            "text/plain": [
              "(110527, 14)"
            ]
          },
          "metadata": {},
          "execution_count": 9
        }
      ]
    },
    {
      "cell_type": "code",
      "source": [
        "# Check the available columns\n",
        "df.columns"
      ],
      "metadata": {
        "colab": {
          "base_uri": "https://localhost:8080/"
        },
        "id": "flxqtz-RMftx",
        "outputId": "dc01d96e-4789-4d6e-dfe5-4e222cc1a46f"
      },
      "execution_count": 10,
      "outputs": [
        {
          "output_type": "execute_result",
          "data": {
            "text/plain": [
              "Index(['PatientId', 'AppointmentID', 'Gender', 'ScheduledDay',\n",
              "       'AppointmentDay', 'Age', 'Neighbourhood', 'Scholarship', 'Hipertension',\n",
              "       'Diabetes', 'Alcoholism', 'Handcap', 'SMS_received', 'No-show'],\n",
              "      dtype='object')"
            ]
          },
          "metadata": {},
          "execution_count": 10
        }
      ]
    },
    {
      "cell_type": "code",
      "source": [
        "# Check for duplicate rows\n",
        "duplicate_count = df.duplicated().sum()\n",
        "print(f\"\\nNumber of duplicate rows: {duplicate_count}\")"
      ],
      "metadata": {
        "colab": {
          "base_uri": "https://localhost:8080/"
        },
        "id": "Ty23TUKcoGVY",
        "outputId": "e04a5b66-0c3a-4099-feac-dd6d34304b20"
      },
      "execution_count": 11,
      "outputs": [
        {
          "output_type": "stream",
          "name": "stdout",
          "text": [
            "\n",
            "Number of duplicate rows: 0\n"
          ]
        }
      ]
    },
    {
      "cell_type": "markdown",
      "source": [
        " **Distributions & Outliers**"
      ],
      "metadata": {
        "id": "VoXL2ur3hWM6"
      }
    },
    {
      "cell_type": "code",
      "source": [
        "#Checking proportion of patients that showed for their appointment\n",
        "\n",
        "print(df['No-show'].value_counts())\n",
        "print(df['No-show'].value_counts(normalize=True))"
      ],
      "metadata": {
        "colab": {
          "base_uri": "https://localhost:8080/"
        },
        "id": "9btmLn-6u4XK",
        "outputId": "55f4d81f-4e41-4fa0-b3cc-6766d502bc4f"
      },
      "execution_count": 12,
      "outputs": [
        {
          "output_type": "stream",
          "name": "stdout",
          "text": [
            "No-show\n",
            "No     88208\n",
            "Yes    22319\n",
            "Name: count, dtype: int64\n",
            "No-show\n",
            "No     0.798067\n",
            "Yes    0.201933\n",
            "Name: proportion, dtype: float64\n"
          ]
        }
      ]
    },
    {
      "cell_type": "code",
      "source": [
        "sns.histplot(df['Age'], bins=40, kde=True)\n"
      ],
      "metadata": {
        "colab": {
          "base_uri": "https://localhost:8080/",
          "height": 468
        },
        "id": "FTJ0FM6giSZ8",
        "outputId": "684f12de-62f4-41ac-de64-cdc8f0a567ff"
      },
      "execution_count": 13,
      "outputs": [
        {
          "output_type": "execute_result",
          "data": {
            "text/plain": [
              "<Axes: xlabel='Age', ylabel='Count'>"
            ]
          },
          "metadata": {},
          "execution_count": 13
        },
        {
          "output_type": "display_data",
          "data": {
            "text/plain": [
              "<Figure size 640x480 with 1 Axes>"
            ],
            "image/png": "[encoded data removed]"
          },
          "metadata": {}
        }
      ]
    },
    {
      "cell_type": "markdown",
      "source": [
        "Majority of patients have between 0 and 60 years, with concentration being between 20years and 60years"
      ],
      "metadata": {
        "id": "56WcUngTwTiN"
      }
    },
    {
      "cell_type": "code",
      "source": [
        "plt.figure(figsize=(10, 4))\n",
        "sns.histplot(df['Age'], bins=40, kde=True, color='skyblue')\n",
        "plt.title(\"Patient Age Distribution\")\n",
        "plt.xlabel(\"Age\")\n",
        "plt.show()\n",
        "\n",
        "\n"
      ],
      "metadata": {
        "colab": {
          "base_uri": "https://localhost:8080/",
          "height": 410
        },
        "id": "yONn-IdYbC8Y",
        "outputId": "fa0129b8-7837-4f27-9154-5d34f5ee44f0"
      },
      "execution_count": 14,
      "outputs": [
        {
          "output_type": "display_data",
          "data": {
            "text/plain": [
              "<Figure size 1000x400 with 1 Axes>"
            ],
            "image/png": "[encoded data removed]"
          },
          "metadata": {}
        }
      ]
    },
    {
      "cell_type": "markdown",
      "source": [
        "**Summary stats:**"
      ],
      "metadata": {
        "id": "gdu6OHPUi6Uf"
      }
    },
    {
      "cell_type": "code",
      "source": [
        "#Summary Statistics for Age of patients\n",
        "df['Age'].describe()"
      ],
      "metadata": {
        "colab": {
          "base_uri": "https://localhost:8080/",
          "height": 335
        },
        "id": "D-Y1asAIi4Us",
        "outputId": "94835766-9d87-4a60-fd9c-b28b1aef6a47"
      },
      "execution_count": 15,
      "outputs": [
        {
          "output_type": "execute_result",
          "data": {
            "text/plain": [
              "count    110527.000000\n",
              "mean         37.088874\n",
              "std          23.110205\n",
              "min          -1.000000\n",
              "25%          18.000000\n",
              "50%          37.000000\n",
              "75%          55.000000\n",
              "max         115.000000\n",
              "Name: Age, dtype: float64"
            ],
            "text/html": [
              "<div>\n",
              "<style scoped>\n",
              "    .dataframe tbody tr th:only-of-type {\n",
              "        vertical-align: middle;\n",
              "    }\n",
              "\n",
              "    .dataframe tbody tr th {\n",
              "        vertical-align: top;\n",
              "    }\n",
              "\n",
              "    .dataframe thead th {\n",
              "        text-align: right;\n",
              "    }\n",
              "</style>\n",
              "<table border=\"1\" class=\"dataframe\">\n",
              "  <thead>\n",
              "    <tr style=\"text-align: right;\">\n",
              "      <th></th>\n",
              "      <th>Age</th>\n",
              "    </tr>\n",
              "  </thead>\n",
              "  <tbody>\n",
              "    <tr>\n",
              "      <th>count</th>\n",
              "      <td>110527.000000</td>\n",
              "    </tr>\n",
              "    <tr>\n",
              "      <th>mean</th>\n",
              "      <td>37.088874</td>\n",
              "    </tr>\n",
              "    <tr>\n",
              "      <th>std</th>\n",
              "      <td>23.110205</td>\n",
              "    </tr>\n",
              "    <tr>\n",
              "      <th>min</th>\n",
              "      <td>-1.000000</td>\n",
              "    </tr>\n",
              "    <tr>\n",
              "      <th>25%</th>\n",
              "      <td>18.000000</td>\n",
              "    </tr>\n",
              "    <tr>\n",
              "      <th>50%</th>\n",
              "      <td>37.000000</td>\n",
              "    </tr>\n",
              "    <tr>\n",
              "      <th>75%</th>\n",
              "      <td>55.000000</td>\n",
              "    </tr>\n",
              "    <tr>\n",
              "      <th>max</th>\n",
              "      <td>115.000000</td>\n",
              "    </tr>\n",
              "  </tbody>\n",
              "</table>\n",
              "</div><br><label><b>dtype:</b> float64</label>"
            ]
          },
          "metadata": {},
          "execution_count": 15
        }
      ]
    },
    {
      "cell_type": "markdown",
      "source": [
        "Average age is 37years\n",
        "\n",
        "Maximum Age is 115 years\n",
        "\n",
        "Minimum age outlier <0\n"
      ],
      "metadata": {
        "id": "iW-I6SrdosYU"
      }
    },
    {
      "cell_type": "code",
      "source": [
        "#Exploring Gender Column\n",
        "df['Gender'].value_counts(normalize=True)\n",
        "\n"
      ],
      "metadata": {
        "colab": {
          "base_uri": "https://localhost:8080/",
          "height": 178
        },
        "id": "KiMtJniRluNV",
        "outputId": "2e114a10-f07f-4383-c970-d3cccf2dea36"
      },
      "execution_count": 16,
      "outputs": [
        {
          "output_type": "execute_result",
          "data": {
            "text/plain": [
              "Gender\n",
              "F    0.649977\n",
              "M    0.350023\n",
              "Name: proportion, dtype: float64"
            ],
            "text/html": [
              "<div>\n",
              "<style scoped>\n",
              "    .dataframe tbody tr th:only-of-type {\n",
              "        vertical-align: middle;\n",
              "    }\n",
              "\n",
              "    .dataframe tbody tr th {\n",
              "        vertical-align: top;\n",
              "    }\n",
              "\n",
              "    .dataframe thead th {\n",
              "        text-align: right;\n",
              "    }\n",
              "</style>\n",
              "<table border=\"1\" class=\"dataframe\">\n",
              "  <thead>\n",
              "    <tr style=\"text-align: right;\">\n",
              "      <th></th>\n",
              "      <th>proportion</th>\n",
              "    </tr>\n",
              "    <tr>\n",
              "      <th>Gender</th>\n",
              "      <th></th>\n",
              "    </tr>\n",
              "  </thead>\n",
              "  <tbody>\n",
              "    <tr>\n",
              "      <th>F</th>\n",
              "      <td>0.649977</td>\n",
              "    </tr>\n",
              "    <tr>\n",
              "      <th>M</th>\n",
              "      <td>0.350023</td>\n",
              "    </tr>\n",
              "  </tbody>\n",
              "</table>\n",
              "</div><br><label><b>dtype:</b> float64</label>"
            ]
          },
          "metadata": {},
          "execution_count": 16
        }
      ]
    },
    {
      "cell_type": "markdown",
      "source": [],
      "metadata": {
        "id": "NkYWaqac7n2a"
      }
    },
    {
      "cell_type": "markdown",
      "source": [
        "Gender Proportion :\n",
        "\n",
        "From gender Exploration,\n",
        "\n",
        "Female makes the Majority of patients 65%\n",
        "\n",
        "Male were 35%"
      ],
      "metadata": {
        "id": "8ScoRArcpLvA"
      }
    },
    {
      "cell_type": "markdown",
      "source": [
        "**Visualizations**"
      ],
      "metadata": {
        "id": "qZkyzkomjblj"
      }
    },
    {
      "cell_type": "code",
      "source": [
        "#Visualize Gender\n",
        "sns.countplot(x='Gender', data=df, palette='Set2')\n",
        "plt.title(\"Gender Distribution\")\n",
        "plt.show()"
      ],
      "metadata": {
        "colab": {
          "base_uri": "https://localhost:8080/",
          "height": 566
        },
        "id": "0Imo0ys3mRs_",
        "outputId": "dc0cfe31-83b5-471e-9fa2-a834f8123774"
      },
      "execution_count": 17,
      "outputs": [
        {
          "output_type": "stream",
          "name": "stderr",
          "text": [
            "/tmp/ipython-input-17-2738593423.py:2: FutureWarning: \n",
            "\n",
            "Passing `palette` without assigning `hue` is deprecated and will be removed in v0.14.0. Assign the `x` variable to `hue` and set `legend=False` for the same effect.\n",
            "\n",
            "  sns.countplot(x='Gender', data=df, palette='Set2')\n"
          ]
        },
        {
          "output_type": "display_data",
          "data": {
            "text/plain": [
              "<Figure size 640x480 with 1 Axes>"
            ],
            "image/png": "[encoded data removed]"
          },
          "metadata": {}
        }
      ]
    },
    {
      "cell_type": "markdown",
      "source": [
        "This insight Confirms that approximately 2/3 of the patients were women"
      ],
      "metadata": {
        "id": "A-NHlAs-pyIl"
      }
    },
    {
      "cell_type": "markdown",
      "source": [
        "\n",
        "Visualize No-Show vs Show"
      ],
      "metadata": {
        "id": "ufr9hYgrmciF"
      }
    },
    {
      "cell_type": "code",
      "source": [
        "#Visualize No-Show vs Show\n",
        "sns.countplot(x='No-show', data=df, palette='Set2')\n",
        "plt.title(\"No-Show vs Show\")\n",
        "plt.xticks([0, 1], ['Show', 'No-show'])\n",
        "plt.show()\n"
      ],
      "metadata": {
        "colab": {
          "base_uri": "https://localhost:8080/",
          "height": 566
        },
        "id": "0e7JKuTSa5UH",
        "outputId": "3a8b34f0-5238-4ac2-bf2b-21d70b2d174b"
      },
      "execution_count": 18,
      "outputs": [
        {
          "output_type": "stream",
          "name": "stderr",
          "text": [
            "/tmp/ipython-input-18-1328034197.py:2: FutureWarning: \n",
            "\n",
            "Passing `palette` without assigning `hue` is deprecated and will be removed in v0.14.0. Assign the `x` variable to `hue` and set `legend=False` for the same effect.\n",
            "\n",
            "  sns.countplot(x='No-show', data=df, palette='Set2')\n"
          ]
        },
        {
          "output_type": "display_data",
          "data": {
            "text/plain": [
              "<Figure size 640x480 with 1 Axes>"
            ],
            "image/png": "[encoded data removed]"
          },
          "metadata": {}
        }
      ]
    },
    {
      "cell_type": "markdown",
      "source": [
        "Majority of the patients showed up for appointment, about 20% did not show up.\n",
        "Shows categorical imbalance."
      ],
      "metadata": {
        "id": "LdRculduqTrB"
      }
    },
    {
      "cell_type": "markdown",
      "source": [
        "\n",
        "\n",
        "**Visualization Neighbourhood**"
      ],
      "metadata": {
        "id": "ZwHHl44Wmrol"
      }
    },
    {
      "cell_type": "code",
      "source": [
        "top_neigh = df['Neighbourhood'].value_counts().nlargest(10).index\n",
        "sns.countplot(data=df[df['Neighbourhood'].isin(top_neigh)],\n",
        "              y='Neighbourhood', order=top_neigh, hue='No-show', palette='Set3')\n",
        "plt.title(\"Top 10 Neighbourhoods by Attendance\")\n",
        "plt.show()\n"
      ],
      "metadata": {
        "colab": {
          "base_uri": "https://localhost:8080/",
          "height": 472
        },
        "id": "QcIjuJrRbZ00",
        "outputId": "88fe9c3f-ecfc-415e-a0bf-c0212ea79fbe"
      },
      "execution_count": 19,
      "outputs": [
        {
          "output_type": "display_data",
          "data": {
            "text/plain": [
              "<Figure size 640x480 with 1 Axes>"
            ],
            "image/png": "[encoded data removed]"
          },
          "metadata": {}
        }
      ]
    },
    {
      "cell_type": "markdown",
      "source": [
        "JARDIM CAMBURI is the leading neighbourhood in terms of patient both showing up for appointment and not showing up.\n",
        "\n",
        "BONFIM has the least in terms of both attributes ahow and no-show."
      ],
      "metadata": {
        "id": "BVaCsbfRu979"
      }
    },
    {
      "cell_type": "markdown",
      "source": [
        "Visualize Gender Vs no-show"
      ],
      "metadata": {
        "id": "09Ii2FvrqzbE"
      }
    },
    {
      "cell_type": "code",
      "source": [
        "#Visualization Gender and No show behaviour\n",
        "sns.countplot(x='Gender', hue='No-show', data=df, palette='Set2')\n",
        "plt.title(\"No-show Rate by Gender\")\n"
      ],
      "metadata": {
        "colab": {
          "base_uri": "https://localhost:8080/",
          "height": 491
        },
        "id": "8jvJxH2SuTUY",
        "outputId": "91c36201-25dc-42b6-a06f-0ec0c6531c5d"
      },
      "execution_count": 20,
      "outputs": [
        {
          "output_type": "execute_result",
          "data": {
            "text/plain": [
              "Text(0.5, 1.0, 'No-show Rate by Gender')"
            ]
          },
          "metadata": {},
          "execution_count": 20
        },
        {
          "output_type": "display_data",
          "data": {
            "text/plain": [
              "<Figure size 640x480 with 1 Axes>"
            ],
            "image/png": "[encoded data removed]"
          },
          "metadata": {}
        }
      ]
    },
    {
      "cell_type": "markdown",
      "source": [
        "Majority of female showed up for appointment which is exepected since they are the dominant gender."
      ],
      "metadata": {
        "id": "nGLHw3CsuoR8"
      }
    },
    {
      "cell_type": "code",
      "source": [],
      "metadata": {
        "id": "WEdm-TVxpCy6"
      },
      "execution_count": 20,
      "outputs": []
    },
    {
      "cell_type": "markdown",
      "source": [
        "\n",
        "\n",
        "SMS vs No-show"
      ],
      "metadata": {
        "id": "x4qjayZsy-bt"
      }
    },
    {
      "cell_type": "code",
      "source": [
        "#SMS vs No-show\n",
        "sns.countplot(x='SMS_received', hue='No-show', data=df, palette='Set2')\n",
        "plt.title(\"No-show Rate by SMS Received\")\n",
        "plt.show()\n"
      ],
      "metadata": {
        "colab": {
          "base_uri": "https://localhost:8080/",
          "height": 472
        },
        "id": "uaW3mHnLx1Gu",
        "outputId": "bb77d56c-0b8f-4aac-ad44-359db081da45"
      },
      "execution_count": 21,
      "outputs": [
        {
          "output_type": "display_data",
          "data": {
            "text/plain": [
              "<Figure size 640x480 with 1 Axes>"
            ],
            "image/png": "[encoded data removed]"
          },
          "metadata": {}
        }
      ]
    },
    {
      "cell_type": "markdown",
      "source": [
        "Majority of the patients did not receive the message but showed up.\n",
        "Similarly those who received SMS, Majority showed up.\n",
        "\n",
        "This shows that receiving or not receiving SMS is not a feature that would determine the patient not showing up for appointment."
      ],
      "metadata": {
        "id": "sz-pXyUiynY4"
      }
    },
    {
      "cell_type": "markdown",
      "source": [
        "**Statistical Techniques**"
      ],
      "metadata": {
        "id": "OBAgK3hoj2nE"
      }
    },
    {
      "cell_type": "code",
      "source": [
        "df.describe()\n"
      ],
      "metadata": {
        "colab": {
          "base_uri": "https://localhost:8080/",
          "height": 300
        },
        "id": "iPqKhhdZqFVo",
        "outputId": "c79d7c25-9a94-4047-814e-1f353748ed42"
      },
      "execution_count": 22,
      "outputs": [
        {
          "output_type": "execute_result",
          "data": {
            "text/plain": [
              "          PatientId  AppointmentID            Age    Scholarship  \\\n",
              "count  1.105270e+05   1.105270e+05  110527.000000  110527.000000   \n",
              "mean   1.474963e+14   5.675305e+06      37.088874       0.098266   \n",
              "std    2.560949e+14   7.129575e+04      23.110205       0.297675   \n",
              "min    3.921784e+04   5.030230e+06      -1.000000       0.000000   \n",
              "25%    4.172614e+12   5.640286e+06      18.000000       0.000000   \n",
              "50%    3.173184e+13   5.680573e+06      37.000000       0.000000   \n",
              "75%    9.439172e+13   5.725524e+06      55.000000       0.000000   \n",
              "max    9.999816e+14   5.790484e+06     115.000000       1.000000   \n",
              "\n",
              "        Hipertension       Diabetes     Alcoholism        Handcap  \\\n",
              "count  110527.000000  110527.000000  110527.000000  110527.000000   \n",
              "mean        0.197246       0.071865       0.030400       0.022248   \n",
              "std         0.397921       0.258265       0.171686       0.161543   \n",
              "min         0.000000       0.000000       0.000000       0.000000   \n",
              "25%         0.000000       0.000000       0.000000       0.000000   \n",
              "50%         0.000000       0.000000       0.000000       0.000000   \n",
              "75%         0.000000       0.000000       0.000000       0.000000   \n",
              "max         1.000000       1.000000       1.000000       4.000000   \n",
              "\n",
              "        SMS_received  \n",
              "count  110527.000000  \n",
              "mean        0.321026  \n",
              "std         0.466873  \n",
              "min         0.000000  \n",
              "25%         0.000000  \n",
              "50%         0.000000  \n",
              "75%         1.000000  \n",
              "max         1.000000  "
            ],
            "text/html": [
              "\n",
              "  <div id=\"df-f10f4778-3e16-43b0-ad83-65c8566adc11\" class=\"colab-df-container\">\n",
              "    <div>\n",
              "<style scoped>\n",
              "    .dataframe tbody tr th:only-of-type {\n",
              "        vertical-align: middle;\n",
              "    }\n",
              "\n",
              "    .dataframe tbody tr th {\n",
              "        vertical-align: top;\n",
              "    }\n",
              "\n",
              "    .dataframe thead th {\n",
              "        text-align: right;\n",
              "    }\n",
              "</style>\n",
              "<table border=\"1\" class=\"dataframe\">\n",
              "  <thead>\n",
              "    <tr style=\"text-align: right;\">\n",
              "      <th></th>\n",
              "      <th>PatientId</th>\n",
              "      <th>AppointmentID</th>\n",
              "      <th>Age</th>\n",
              "      <th>Scholarship</th>\n",
              "      <th>Hipertension</th>\n",
              "      <th>Diabetes</th>\n",
              "      <th>Alcoholism</th>\n",
              "      <th>Handcap</th>\n",
              "      <th>SMS_received</th>\n",
              "    </tr>\n",
              "  </thead>\n",
              "  <tbody>\n",
              "    <tr>\n",
              "      <th>count</th>\n",
              "      <td>1.105270e+05</td>\n",
              "      <td>1.105270e+05</td>\n",
              "      <td>110527.000000</td>\n",
              "      <td>110527.000000</td>\n",
              "      <td>110527.000000</td>\n",
              "      <td>110527.000000</td>\n",
              "      <td>110527.000000</td>\n",
              "      <td>110527.000000</td>\n",
              "      <td>110527.000000</td>\n",
              "    </tr>\n",
              "    <tr>\n",
              "      <th>mean</th>\n",
              "      <td>1.474963e+14</td>\n",
              "      <td>5.675305e+06</td>\n",
              "      <td>37.088874</td>\n",
              "      <td>0.098266</td>\n",
              "      <td>0.197246</td>\n",
              "      <td>0.071865</td>\n",
              "      <td>0.030400</td>\n",
              "      <td>0.022248</td>\n",
              "      <td>0.321026</td>\n",
              "    </tr>\n",
              "    <tr>\n",
              "      <th>std</th>\n",
              "      <td>2.560949e+14</td>\n",
              "      <td>7.129575e+04</td>\n",
              "      <td>23.110205</td>\n",
              "      <td>0.297675</td>\n",
              "      <td>0.397921</td>\n",
              "      <td>0.258265</td>\n",
              "      <td>0.171686</td>\n",
              "      <td>0.161543</td>\n",
              "      <td>0.466873</td>\n",
              "    </tr>\n",
              "    <tr>\n",
              "      <th>min</th>\n",
              "      <td>3.921784e+04</td>\n",
              "      <td>5.030230e+06</td>\n",
              "      <td>-1.000000</td>\n",
              "      <td>0.000000</td>\n",
              "      <td>0.000000</td>\n",
              "      <td>0.000000</td>\n",
              "      <td>0.000000</td>\n",
              "      <td>0.000000</td>\n",
              "      <td>0.000000</td>\n",
              "    </tr>\n",
              "    <tr>\n",
              "      <th>25%</th>\n",
              "      <td>4.172614e+12</td>\n",
              "      <td>5.640286e+06</td>\n",
              "      <td>18.000000</td>\n",
              "      <td>0.000000</td>\n",
              "      <td>0.000000</td>\n",
              "      <td>0.000000</td>\n",
              "      <td>0.000000</td>\n",
              "      <td>0.000000</td>\n",
              "      <td>0.000000</td>\n",
              "    </tr>\n",
              "    <tr>\n",
              "      <th>50%</th>\n",
              "      <td>3.173184e+13</td>\n",
              "      <td>5.680573e+06</td>\n",
              "      <td>37.000000</td>\n",
              "      <td>0.000000</td>\n",
              "      <td>0.000000</td>\n",
              "      <td>0.000000</td>\n",
              "      <td>0.000000</td>\n",
              "      <td>0.000000</td>\n",
              "      <td>0.000000</td>\n",
              "    </tr>\n",
              "    <tr>\n",
              "      <th>75%</th>\n",
              "      <td>9.439172e+13</td>\n",
              "      <td>5.725524e+06</td>\n",
              "      <td>55.000000</td>\n",
              "      <td>0.000000</td>\n",
              "      <td>0.000000</td>\n",
              "      <td>0.000000</td>\n",
              "      <td>0.000000</td>\n",
              "      <td>0.000000</td>\n",
              "      <td>1.000000</td>\n",
              "    </tr>\n",
              "    <tr>\n",
              "      <th>max</th>\n",
              "      <td>9.999816e+14</td>\n",
              "      <td>5.790484e+06</td>\n",
              "      <td>115.000000</td>\n",
              "      <td>1.000000</td>\n",
              "      <td>1.000000</td>\n",
              "      <td>1.000000</td>\n",
              "      <td>1.000000</td>\n",
              "      <td>4.000000</td>\n",
              "      <td>1.000000</td>\n",
              "    </tr>\n",
              "  </tbody>\n",
              "</table>\n",
              "</div>\n",
              "    <div class=\"colab-df-buttons\">\n",
              "\n",
              "  <div class=\"colab-df-container\">\n",
              "    <button class=\"colab-df-convert\" onclick=\"convertToInteractive('df-f10f4778-3e16-43b0-ad83-65c8566adc11')\"\n",
              "            title=\"Convert this dataframe to an interactive table.\"\n",
              "            style=\"display:none;\">\n",
              "\n",
              "  <svg xmlns=\"http://www.w3.org/2000/svg\" height=\"24px\" viewBox=\"0 -960 960 960\">\n",
              "    <path d=\"M120-120v-720h720v720H120Zm60-500h600v-160H180v160Zm220 220h160v-160H400v160Zm0 220h160v-160H400v160ZM180-400h160v-160H180v160Zm440 0h160v-160H620v160ZM180-180h160v-160H180v160Zm440 0h160v-160H620v160Z\"/>\n",
              "  </svg>\n",
              "    </button>\n",
              "\n",
              "  <style>\n",
              "    .colab-df-container {\n",
              "      display:flex;\n",
              "      gap: 12px;\n",
              "    }\n",
              "\n",
              "    .colab-df-convert {\n",
              "      background-color: #E8F0FE;\n",
              "      border: none;\n",
              "      border-radius: 50%;\n",
              "      cursor: pointer;\n",
              "      display: none;\n",
              "      fill: #1967D2;\n",
              "      height: 32px;\n",
              "      padding: 0 0 0 0;\n",
              "      width: 32px;\n",
              "    }\n",
              "\n",
              "    .colab-df-convert:hover {\n",
              "      background-color: #E2EBFA;\n",
              "      box-shadow: 0px 1px 2px rgba(60, 64, 67, 0.3), 0px 1px 3px 1px rgba(60, 64, 67, 0.15);\n",
              "      fill: #174EA6;\n",
              "    }\n",
              "\n",
              "    .colab-df-buttons div {\n",
              "      margin-bottom: 4px;\n",
              "    }\n",
              "\n",
              "    [theme=dark] .colab-df-convert {\n",
              "      background-color: #3B4455;\n",
              "      fill: #D2E3FC;\n",
              "    }\n",
              "\n",
              "    [theme=dark] .colab-df-convert:hover {\n",
              "      background-color: #434B5C;\n",
              "      box-shadow: 0px 1px 3px 1px rgba(0, 0, 0, 0.15);\n",
              "      filter: drop-shadow(0px 1px 2px rgba(0, 0, 0, 0.3));\n",
              "      fill: #FFFFFF;\n",
              "    }\n",
              "  </style>\n",
              "\n",
              "    <script>\n",
              "      const buttonEl =\n",
              "        document.querySelector('#df-f10f4778-3e16-43b0-ad83-65c8566adc11 button.colab-df-convert');\n",
              "      buttonEl.style.display =\n",
              "        google.colab.kernel.accessAllowed ? 'block' : 'none';\n",
              "\n",
              "      async function convertToInteractive(key) {\n",
              "        const element = document.querySelector('#df-f10f4778-3e16-43b0-ad83-65c8566adc11');\n",
              "        const dataTable =\n",
              "          await google.colab.kernel.invokeFunction('convertToInteractive',\n",
              "                                                    [key], {});\n",
              "        if (!dataTable) return;\n",
              "\n",
              "        const docLinkHtml = 'Like what you see? Visit the ' +\n",
              "          '<a target=\"_blank\" href=https://colab.research.google.com/notebooks/data_table.ipynb>data table notebook</a>'\n",
              "          + ' to learn more about interactive tables.';\n",
              "        element.innerHTML = '';\n",
              "        dataTable['output_type'] = 'display_data';\n",
              "        await google.colab.output.renderOutput(dataTable, element);\n",
              "        const docLink = document.createElement('div');\n",
              "        docLink.innerHTML = docLinkHtml;\n",
              "        element.appendChild(docLink);\n",
              "      }\n",
              "    </script>\n",
              "  </div>\n",
              "\n",
              "\n",
              "    <div id=\"df-ed0eb62d-5b46-4ef7-8aea-7d42c39955f3\">\n",
              "      <button class=\"colab-df-quickchart\" onclick=\"quickchart('df-ed0eb62d-5b46-4ef7-8aea-7d42c39955f3')\"\n",
              "                title=\"Suggest charts\"\n",
              "                style=\"display:none;\">\n",
              "\n",
              "<svg xmlns=\"http://www.w3.org/2000/svg\" height=\"24px\"viewBox=\"0 0 24 24\"\n",
              "     width=\"24px\">\n",
              "    <g>\n",
              "        <path d=\"M19 3H5c-1.1 0-2 .9-2 2v14c0 1.1.9 2 2 2h14c1.1 0 2-.9 2-2V5c0-1.1-.9-2-2-2zM9 17H7v-7h2v7zm4 0h-2V7h2v10zm4 0h-2v-4h2v4z\"/>\n",
              "    </g>\n",
              "</svg>\n",
              "      </button>\n",
              "\n",
              "<style>\n",
              "  .colab-df-quickchart {\n",
              "      --bg-color: #E8F0FE;\n",
              "      --fill-color: #1967D2;\n",
              "      --hover-bg-color: #E2EBFA;\n",
              "      --hover-fill-color: #174EA6;\n",
              "      --disabled-fill-color: #AAA;\n",
              "      --disabled-bg-color: #DDD;\n",
              "  }\n",
              "\n",
              "  [theme=dark] .colab-df-quickchart {\n",
              "      --bg-color: #3B4455;\n",
              "      --fill-color: #D2E3FC;\n",
              "      --hover-bg-color: #434B5C;\n",
              "      --hover-fill-color: #FFFFFF;\n",
              "      --disabled-bg-color: #3B4455;\n",
              "      --disabled-fill-color: #666;\n",
              "  }\n",
              "\n",
              "  .colab-df-quickchart {\n",
              "    background-color: var(--bg-color);\n",
              "    border: none;\n",
              "    border-radius: 50%;\n",
              "    cursor: pointer;\n",
              "    display: none;\n",
              "    fill: var(--fill-color);\n",
              "    height: 32px;\n",
              "    padding: 0;\n",
              "    width: 32px;\n",
              "  }\n",
              "\n",
              "  .colab-df-quickchart:hover {\n",
              "    background-color: var(--hover-bg-color);\n",
              "    box-shadow: 0 1px 2px rgba(60, 64, 67, 0.3), 0 1px 3px 1px rgba(60, 64, 67, 0.15);\n",
              "    fill: var(--button-hover-fill-color);\n",
              "  }\n",
              "\n",
              "  .colab-df-quickchart-complete:disabled,\n",
              "  .colab-df-quickchart-complete:disabled:hover {\n",
              "    background-color: var(--disabled-bg-color);\n",
              "    fill: var(--disabled-fill-color);\n",
              "    box-shadow: none;\n",
              "  }\n",
              "\n",
              "  .colab-df-spinner {\n",
              "    border: 2px solid var(--fill-color);\n",
              "    border-color: transparent;\n",
              "    border-bottom-color: var(--fill-color);\n",
              "    animation:\n",
              "      spin 1s steps(1) infinite;\n",
              "  }\n",
              "\n",
              "  @keyframes spin {\n",
              "    0% {\n",
              "      border-color: transparent;\n",
              "      border-bottom-color: var(--fill-color);\n",
              "      border-left-color: var(--fill-color);\n",
              "    }\n",
              "    20% {\n",
              "      border-color: transparent;\n",
              "      border-left-color: var(--fill-color);\n",
              "      border-top-color: var(--fill-color);\n",
              "    }\n",
              "    30% {\n",
              "      border-color: transparent;\n",
              "      border-left-color: var(--fill-color);\n",
              "      border-top-color: var(--fill-color);\n",
              "      border-right-color: var(--fill-color);\n",
              "    }\n",
              "    40% {\n",
              "      border-color: transparent;\n",
              "      border-right-color: var(--fill-color);\n",
              "      border-top-color: var(--fill-color);\n",
              "    }\n",
              "    60% {\n",
              "      border-color: transparent;\n",
              "      border-right-color: var(--fill-color);\n",
              "    }\n",
              "    80% {\n",
              "      border-color: transparent;\n",
              "      border-right-color: var(--fill-color);\n",
              "      border-bottom-color: var(--fill-color);\n",
              "    }\n",
              "    90% {\n",
              "      border-color: transparent;\n",
              "      border-bottom-color: var(--fill-color);\n",
              "    }\n",
              "  }\n",
              "</style>\n",
              "\n",
              "      <script>\n",
              "        async function quickchart(key) {\n",
              "          const quickchartButtonEl =\n",
              "            document.querySelector('#' + key + ' button');\n",
              "          quickchartButtonEl.disabled = true;  // To prevent multiple clicks.\n",
              "          quickchartButtonEl.classList.add('colab-df-spinner');\n",
              "          try {\n",
              "            const charts = await google.colab.kernel.invokeFunction(\n",
              "                'suggestCharts', [key], {});\n",
              "          } catch (error) {\n",
              "            console.error('Error during call to suggestCharts:', error);\n",
              "          }\n",
              "          quickchartButtonEl.classList.remove('colab-df-spinner');\n",
              "          quickchartButtonEl.classList.add('colab-df-quickchart-complete');\n",
              "        }\n",
              "        (() => {\n",
              "          let quickchartButtonEl =\n",
              "            document.querySelector('#df-ed0eb62d-5b46-4ef7-8aea-7d42c39955f3 button');\n",
              "          quickchartButtonEl.style.display =\n",
              "            google.colab.kernel.accessAllowed ? 'block' : 'none';\n",
              "        })();\n",
              "      </script>\n",
              "    </div>\n",
              "\n",
              "    </div>\n",
              "  </div>\n"
            ],
            "application/vnd.google.colaboratory.intrinsic+json": {
              "type": "dataframe",
              "summary": "{\n  \"name\": \"df\",\n  \"rows\": 8,\n  \"fields\": [\n    {\n      \"column\": \"PatientId\",\n      \"properties\": {\n        \"dtype\": \"number\",\n        \"std\": 338725104975282.06,\n        \"min\": 39217.84439,\n        \"max\": 999981631772427.0,\n        \"num_unique_values\": 8,\n        \"samples\": [\n          147496265710394.06,\n          31731838713978.0,\n          110527.0\n        ],\n        \"semantic_type\": \"\",\n        \"description\": \"\"\n      }\n    },\n    {\n      \"column\": \"AppointmentID\",\n      \"properties\": {\n        \"dtype\": \"number\",\n        \"std\": 2556706.763895736,\n        \"min\": 71295.75153966916,\n        \"max\": 5790484.0,\n        \"num_unique_values\": 8,\n        \"samples\": [\n          5675305.123426855,\n          5680573.0,\n          110527.0\n        ],\n        \"semantic_type\": \"\",\n        \"description\": \"\"\n      }\n    },\n    {\n      \"column\": \"Age\",\n      \"properties\": {\n        \"dtype\": \"number\",\n        \"std\": 39062.85658579293,\n        \"min\": -1.0,\n        \"max\": 110527.0,\n        \"num_unique_values\": 8,\n        \"samples\": [\n          37.08887421173107,\n          37.0,\n          110527.0\n        ],\n        \"semantic_type\": \"\",\n        \"description\": \"\"\n      }\n    },\n    {\n      \"column\": \"Scholarship\",\n      \"properties\": {\n        \"dtype\": \"number\",\n        \"std\": 39077.125097967306,\n        \"min\": 0.0,\n        \"max\": 110527.0,\n        \"num_unique_values\": 5,\n        \"samples\": [\n          0.09826558216544373,\n          1.0,\n          0.29767475410942307\n        ],\n        \"semantic_type\": \"\",\n        \"description\": \"\"\n      }\n    },\n    {\n      \"column\": \"Hipertension\",\n      \"properties\": {\n        \"dtype\": \"number\",\n        \"std\": 39077.11503551282,\n        \"min\": 0.0,\n        \"max\": 110527.0,\n        \"num_unique_values\": 5,\n        \"samples\": [\n          0.1972459218109602,\n          1.0,\n          0.39792134994753325\n        ],\n        \"semantic_type\": \"\",\n        \"description\": \"\"\n      }\n    },\n    {\n      \"column\": \"Diabetes\",\n      \"properties\": {\n        \"dtype\": \"number\",\n        \"std\": 39077.128421896545,\n        \"min\": 0.0,\n        \"max\": 110527.0,\n        \"num_unique_values\": 5,\n        \"samples\": [\n          0.07186479321794674,\n          1.0,\n          0.2582650735076741\n        ],\n        \"semantic_type\": \"\",\n        \"description\": \"\"\n      }\n    },\n    {\n      \"column\": \"Alcoholism\",\n      \"properties\": {\n        \"dtype\": \"number\",\n        \"std\": 39077.134889129266,\n        \"min\": 0.0,\n        \"max\": 110527.0,\n        \"num_unique_values\": 5,\n        \"samples\": [\n          0.030399811810688793,\n          1.0,\n          0.17168555541436223\n        ],\n        \"semantic_type\": \"\",\n        \"description\": \"\"\n      }\n    },\n    {\n      \"column\": \"Handcap\",\n      \"properties\": {\n        \"dtype\": \"number\",\n        \"std\": 39076.98431348663,\n        \"min\": 0.0,\n        \"max\": 110527.0,\n        \"num_unique_values\": 5,\n        \"samples\": [\n          0.022247957512643968,\n          4.0,\n          0.1615427258143932\n        ],\n        \"semantic_type\": \"\",\n        \"description\": \"\"\n      }\n    },\n    {\n      \"column\": \"SMS_received\",\n      \"properties\": {\n        \"dtype\": \"number\",\n        \"std\": 39077.054794184485,\n        \"min\": 0.0,\n        \"max\": 110527.0,\n        \"num_unique_values\": 5,\n        \"samples\": [\n          0.32102563174608917,\n          1.0,\n          0.46687273170178245\n        ],\n        \"semantic_type\": \"\",\n        \"description\": \"\"\n      }\n    }\n  ]\n}"
            }
          },
          "metadata": {},
          "execution_count": 22
        }
      ]
    },
    {
      "cell_type": "markdown",
      "source": [
        "From the descriptive Statistics:\n",
        "\n",
        "Average Age of Patients= 37 years\n",
        "\n",
        "Maximum Age of Patients = 115 Years"
      ],
      "metadata": {
        "id": "p5P1fW28zPCA"
      }
    },
    {
      "cell_type": "code",
      "source": [
        "#Correlation Analysis\n",
        "plt.figure(figsize=(12, 6))\n",
        "sns.heatmap(df.corr(numeric_only=True), annot=True, cmap='coolwarm')\n"
      ],
      "metadata": {
        "colab": {
          "base_uri": "https://localhost:8080/",
          "height": 638
        },
        "id": "prrNHtoGkGb_",
        "outputId": "b63c313c-8ad3-433d-e5d7-26b4606cc486"
      },
      "execution_count": 23,
      "outputs": [
        {
          "output_type": "execute_result",
          "data": {
            "text/plain": [
              "<Axes: >"
            ]
          },
          "metadata": {},
          "execution_count": 23
        },
        {
          "output_type": "display_data",
          "data": {
            "text/plain": [
              "<Figure size 1200x600 with 2 Axes>"
            ],
            "image/png": "[encoded data removed]"
          },
          "metadata": {}
        }
      ]
    },
    {
      "cell_type": "markdown",
      "source": [
        "**Correlation Explanation:**\n",
        "\n",
        "From the results, most features have weak correlation\n",
        "\n",
        "\n"
      ],
      "metadata": {
        "id": "6tbxsag-sKWv"
      }
    },
    {
      "cell_type": "markdown",
      "source": [
        "**💡 Initial Insights**\n",
        "\n",
        "The results shows that majority of patients attend their appointments (hence imbalanced dataset)\n",
        "\n",
        " ~65% of the dataset consist of Females.\n",
        "\n",
        "Neighbourhood may influence attendance — some areas had higher no-show rates\n",
        "\n",
        "Gender alone may not be the main predictor for no-show behavior hence it needs to be combined with other features such as age, SMS_received, and chronic conditions.\n",
        "\n",
        "Receiving an SMS reminder, is not a strong predictor of whether a patient will show up for their appointment.\n",
        "\n"
      ],
      "metadata": {
        "id": "_EBFLBb-lNXX"
      }
    },
    {
      "cell_type": "markdown",
      "source": [
        "**3. Data Preparation**\n",
        "\n"
      ],
      "metadata": {
        "id": "NcEov1Y4lQC5"
      }
    },
    {
      "cell_type": "markdown",
      "source": [
        "a)\t**Handle missing values**\n",
        "\n",
        "We dropped the row to simplify the pipeline for preprocessing without data distortion"
      ],
      "metadata": {
        "id": "ccm51bBdMarf"
      }
    },
    {
      "cell_type": "code",
      "source": [
        "# Check for missing values again\n",
        "print(df.isnull().sum())\n",
        "\n",
        "# Drop rows with missing values\n",
        "df.dropna(inplace=True)\n",
        "\n",
        "# Confirm removal\n",
        "print(\"After cleaning, shape:\", df.shape)\n"
      ],
      "metadata": {
        "colab": {
          "base_uri": "https://localhost:8080/"
        },
        "id": "BZD3Gdsd6pKO",
        "outputId": "a0a1ca35-445c-46a7-887b-dffda2326ac6"
      },
      "execution_count": 24,
      "outputs": [
        {
          "output_type": "stream",
          "name": "stdout",
          "text": [
            "PatientId         0\n",
            "AppointmentID     0\n",
            "Gender            0\n",
            "ScheduledDay      0\n",
            "AppointmentDay    0\n",
            "Age               0\n",
            "Neighbourhood     0\n",
            "Scholarship       0\n",
            "Hipertension      0\n",
            "Diabetes          0\n",
            "Alcoholism        0\n",
            "Handcap           0\n",
            "SMS_received      0\n",
            "No-show           0\n",
            "dtype: int64\n",
            "After cleaning, shape: (110527, 14)\n"
          ]
        }
      ]
    },
    {
      "cell_type": "code",
      "source": [
        "from sklearn.preprocessing import LabelEncoder, StandardScaler\n",
        "from sklearn.model_selection import train_test_split\n"
      ],
      "metadata": {
        "id": "YaDMrexwhdqx"
      },
      "execution_count": 25,
      "outputs": []
    },
    {
      "cell_type": "markdown",
      "source": [
        "We imported Standard scaler from preprocessor module for data scaling or standardization\n",
        "And LabelEncoder Class for for converting categorical features to numerical."
      ],
      "metadata": {
        "id": "gvzRvW6N9Uqa"
      }
    },
    {
      "cell_type": "code",
      "source": [
        "# Make a copy to avoid messing with the original\n",
        "data = df.copy()"
      ],
      "metadata": {
        "id": "b-msbSjOiTSM"
      },
      "execution_count": 26,
      "outputs": []
    },
    {
      "cell_type": "markdown",
      "source": [
        "We make a copy of the original dataset."
      ],
      "metadata": {
        "id": "wzL7Wnli-iog"
      }
    },
    {
      "cell_type": "code",
      "source": [
        "# Step 1: Drop irrelevant columns\n",
        "data.drop(['PatientId', 'AppointmentID'], axis=1, inplace=True)"
      ],
      "metadata": {
        "id": "r50-rialiXdC"
      },
      "execution_count": 27,
      "outputs": []
    },
    {
      "cell_type": "markdown",
      "source": [
        "PatientID and AppointmentID are mere codes that do not need to be used in this process. So as part of cleaning, we drop them out of our dataset without remaking a copy."
      ],
      "metadata": {
        "id": "Dw5taoOfA5ns"
      }
    },
    {
      "cell_type": "markdown",
      "source": [
        "3b)\n",
        "Handling the outliers\n",
        "\n",
        "Next we visualize age with boxplot to see the outliers.\n",
        "\n",
        "The box plot shows an extreme age beyond 100yrs\n"
      ],
      "metadata": {
        "id": "2VEAZFwzCete"
      }
    },
    {
      "cell_type": "code",
      "source": [
        "#Detect the outliers\n",
        "# Visualizing potential outliers in Age\n",
        "import seaborn as sns\n",
        "import matplotlib.pyplot as plt\n",
        "\n",
        "plt.figure(figsize=(10, 4))\n",
        "sns.boxplot(x=df['Age'])\n",
        "plt.title(\"Boxplot of Patient Age\")\n",
        "plt.show()\n"
      ],
      "metadata": {
        "colab": {
          "base_uri": "https://localhost:8080/",
          "height": 410
        },
        "id": "gXQV4xPQ9uIz",
        "outputId": "a978c32a-d68e-4ff1-ade5-722ae5ea1a6a"
      },
      "execution_count": 28,
      "outputs": [
        {
          "output_type": "display_data",
          "data": {
            "text/plain": [
              "<Figure size 1000x400 with 1 Axes>"
            ],
            "image/png": "[encoded data removed]"
          },
          "metadata": {}
        }
      ]
    },
    {
      "cell_type": "code",
      "source": [],
      "metadata": {
        "id": "sSFB-0Sk9O4V"
      },
      "execution_count": 28,
      "outputs": []
    },
    {
      "cell_type": "code",
      "source": [
        "# Step 6: Handle Outliers - drop extreme ages\n",
        "data = data[(data['Age'] >= 0) & (data['Age'] <= 100)]\n"
      ],
      "metadata": {
        "id": "b5q9H4_h9Ppp"
      },
      "execution_count": 29,
      "outputs": []
    },
    {
      "cell_type": "markdown",
      "source": [],
      "metadata": {
        "id": "50_mqSnu9OVh"
      }
    },
    {
      "cell_type": "markdown",
      "source": [
        "3c) Encode categorical variables\n",
        "\n",
        "\n",
        "Encode Target Column"
      ],
      "metadata": {
        "id": "XRR5ge4cBwKY"
      }
    },
    {
      "cell_type": "code",
      "source": [
        "# Step 2: Convert target column\n",
        "data['No-show'] = data['No-show'].map({'Yes': 1, 'No': 0})\n",
        "\n"
      ],
      "metadata": {
        "id": "OgTPl7h-ifHm",
        "colab": {
          "base_uri": "https://localhost:8080/"
        },
        "outputId": "f677ae45-101b-4c7f-859a-04ea3a1ff110"
      },
      "execution_count": 30,
      "outputs": [
        {
          "output_type": "stream",
          "name": "stderr",
          "text": [
            "/tmp/ipython-input-30-2066501701.py:2: SettingWithCopyWarning: \n",
            "A value is trying to be set on a copy of a slice from a DataFrame.\n",
            "Try using .loc[row_indexer,col_indexer] = value instead\n",
            "\n",
            "See the caveats in the documentation: https://pandas.pydata.org/pandas-docs/stable/user_guide/indexing.html#returning-a-view-versus-a-copy\n",
            "  data['No-show'] = data['No-show'].map({'Yes': 1, 'No': 0})\n"
          ]
        }
      ]
    },
    {
      "cell_type": "markdown",
      "source": [
        "we treat ‘Yes’ (they missed the appointment) as a 1, and ‘No’ (they came) as a 0.\n",
        "\n",
        "We use .map() to convert these text values to numbers because models can’t learn from strings — they only understand numbers.”"
      ],
      "metadata": {
        "id": "_WWb_3EUjbr1"
      }
    },
    {
      "cell_type": "code",
      "source": [
        "# Step 3: Encode categorical variables\n",
        "label_enc = LabelEncoder()\n",
        "data['Gender'] = label_enc.fit_transform(data['Gender'])  # Male = 1, Female = 0\n"
      ],
      "metadata": {
        "id": "f-16iJnRil0B",
        "colab": {
          "base_uri": "https://localhost:8080/"
        },
        "outputId": "12990384-6057-4e7f-da94-48f379b5539a"
      },
      "execution_count": 31,
      "outputs": [
        {
          "output_type": "stream",
          "name": "stderr",
          "text": [
            "/tmp/ipython-input-31-556656101.py:3: SettingWithCopyWarning: \n",
            "A value is trying to be set on a copy of a slice from a DataFrame.\n",
            "Try using .loc[row_indexer,col_indexer] = value instead\n",
            "\n",
            "See the caveats in the documentation: https://pandas.pydata.org/pandas-docs/stable/user_guide/indexing.html#returning-a-view-versus-a-copy\n",
            "  data['Gender'] = label_enc.fit_transform(data['Gender'])  # Male = 1, Female = 0\n"
          ]
        }
      ]
    },
    {
      "cell_type": "markdown",
      "source": [
        "We have encoded gender using labelEncoder"
      ],
      "metadata": {
        "id": "Fx5rxrkuArwH"
      }
    },
    {
      "cell_type": "code",
      "source": [
        "# Step 4: Create time-based features\n",
        "data['ScheduledDay'] = pd.to_datetime(data['ScheduledDay'])\n",
        "data['AppointmentDay'] = pd.to_datetime(data['AppointmentDay'])\n"
      ],
      "metadata": {
        "id": "5JNQVs9gi01W"
      },
      "execution_count": 32,
      "outputs": []
    },
    {
      "cell_type": "markdown",
      "source": [
        "Dates are strings by default. Therefor in this time based feature conversion, we converted them into actual date/time objects so we can calculate how long a patient waited."
      ],
      "metadata": {
        "id": "u_o8N-NlAThs"
      }
    },
    {
      "cell_type": "code",
      "source": [
        "# Create new features: waiting days\n",
        "data['Wait_Days'] = (data['AppointmentDay'] - data['ScheduledDay']).dt.days\n"
      ],
      "metadata": {
        "id": "nY-CvBf3i-IW"
      },
      "execution_count": 33,
      "outputs": []
    },
    {
      "cell_type": "code",
      "source": [
        "# Remove rows where wait_days < 0 (invalid)\n",
        "data = data[data['Wait_Days'] >= 0]\n"
      ],
      "metadata": {
        "id": "KCHiyQ9QjDdk"
      },
      "execution_count": 34,
      "outputs": []
    },
    {
      "cell_type": "code",
      "source": [
        "# Step 5: Drop original datetime columns\n",
        "data.drop(['ScheduledDay', 'AppointmentDay'], axis=1, inplace=True)\n"
      ],
      "metadata": {
        "colab": {
          "base_uri": "https://localhost:8080/"
        },
        "id": "qMcboJt8jFMi",
        "outputId": "519c5206-7198-484f-8945-e7d9d1f06033"
      },
      "execution_count": 35,
      "outputs": [
        {
          "output_type": "stream",
          "name": "stderr",
          "text": [
            "/tmp/ipython-input-35-3297675821.py:2: SettingWithCopyWarning: \n",
            "A value is trying to be set on a copy of a slice from a DataFrame\n",
            "\n",
            "See the caveats in the documentation: https://pandas.pydata.org/pandas-docs/stable/user_guide/indexing.html#returning-a-view-versus-a-copy\n",
            "  data.drop(['ScheduledDay', 'AppointmentDay'], axis=1, inplace=True)\n"
          ]
        }
      ]
    },
    {
      "cell_type": "code",
      "source": [
        "# Step 6: Handle Outliers - drop extreme ages\n",
        "data = data[(data['Age'] >= 0) & (data['Age'] <= 100)]\n"
      ],
      "metadata": {
        "id": "C7C4o6HtjJ82"
      },
      "execution_count": 36,
      "outputs": []
    },
    {
      "cell_type": "markdown",
      "source": [
        "Encode categorical variable"
      ],
      "metadata": {
        "id": "OKSiuMqjLmbJ"
      }
    },
    {
      "cell_type": "code",
      "source": [
        "#One-Hot Encoding neighborhoods\n",
        "data = pd.get_dummies(data, columns=['Neighbourhood'], drop_first=True)\n"
      ],
      "metadata": {
        "id": "J3gzsSjBoBXx"
      },
      "execution_count": 37,
      "outputs": []
    },
    {
      "cell_type": "markdown",
      "source": [
        "c)\t**Encode categorical variables**\n",
        "\n",
        "Machine learning models don’t understand text like “CENTRO” or “JARDIM under the feature neighbourhood.\n",
        "\n",
        "We convert neighbourhood into a bunch of binary 1/0 numbers that machine learning algorithms can understand using one-hot encoding.\n",
        "drop_first =True evades redundancy.\n",
        "\n"
      ],
      "metadata": {
        "id": "pjthP0K8G_zC"
      }
    },
    {
      "cell_type": "markdown",
      "source": [
        "**d)\tScale/normalize features**\n",
        "\n",
        "We did feature scaling for numerical features to ensure they are on the same scale for machine learning. This is necessary for sensitive algorithms such as logistic regression and SVM.\n",
        "Using StandardScaler, we normalized Age and Wait_Days. This gives these features the mean of 0 and Standard deviation of 1 stabilizing the model and boosting the convergence"
      ],
      "metadata": {
        "id": "qvX3Syx5KkXS"
      }
    },
    {
      "cell_type": "code",
      "source": [
        "# Step 7: Scaling numeric features\n",
        "scaler = StandardScaler()\n",
        "num_features = ['Age', 'Wait_Days']\n",
        "data[num_features] = scaler.fit_transform(data[num_features])\n"
      ],
      "metadata": {
        "id": "pZoKYT3VjSOX"
      },
      "execution_count": 38,
      "outputs": []
    },
    {
      "cell_type": "markdown",
      "source": [
        "**Seperating Into Features & Labels**\n",
        "In the cell below we label the input data into two."
      ],
      "metadata": {
        "id": "eVztlbEDGcHw"
      }
    },
    {
      "cell_type": "code",
      "source": [
        "# Step 8: Separate features and label\n",
        "X = data.drop('No-show', axis=1)\n",
        "y = data['No-show']\n"
      ],
      "metadata": {
        "id": "jRzpEw5tjUAS"
      },
      "execution_count": 39,
      "outputs": []
    },
    {
      "cell_type": "markdown",
      "source": [
        "In the cell above: We we put our data into two sections:\n",
        "1. X Input Feature- What the model sees and uses to make predictions, Includes the columns age, gender, neighborhood, wait days, SMS received, etc.\n",
        "2. Y Target variable- This is the side we are trying to predict OR the answer we want the model to learn to predict."
      ],
      "metadata": {
        "id": "I2cqacmpGD3C"
      }
    },
    {
      "cell_type": "code",
      "source": [
        "# Step 9: Train/Test Split\n",
        "X_train, X_test, y_train, y_test = train_test_split(X, y, test_size=0.2, random_state=42)\n",
        "\n",
        "# Preview\n",
        "print(\"Training set size:\", X_train.shape)\n",
        "print(\"Testing set size:\", X_test.shape)\n"
      ],
      "metadata": {
        "colab": {
          "base_uri": "https://localhost:8080/"
        },
        "id": "fR08OnW1jeJK",
        "outputId": "766b520c-9f39-46b0-9185-02f40a6b6ada"
      },
      "execution_count": 40,
      "outputs": [
        {
          "output_type": "stream",
          "name": "stdout",
          "text": [
            "Training set size: (57563, 88)\n",
            "Testing set size: (14391, 88)\n"
          ]
        }
      ]
    },
    {
      "cell_type": "code",
      "source": [
        "#Step 10: Modelis\n",
        "from sklearn.linear_model import LogisticRegression\n",
        "from sklearn.ensemble import RandomForestClassifier\n",
        "from sklearn.tree import DecisionTreeClassifier\n",
        "from sklearn.svm import SVC\n",
        "from sklearn.naive_bayes import GaussianNB\n",
        "from sklearn.neighbors import KNeighborsClassifier\n",
        "from sklearn.neural_network import MLPClassifier\n",
        "from sklearn.metrics import accuracy_score, precision_score, recall_score, f1_score, roc_auc_score\n",
        "import xgboost as xgb\n"
      ],
      "metadata": {
        "id": "8CVcGaWsldIN"
      },
      "execution_count": 41,
      "outputs": []
    },
    {
      "cell_type": "code",
      "source": [
        "# Define models\n",
        "# 2. Skip slow models (SVM, MLP, KNN)\n",
        "models = {\n",
        "    \"Logistic Regression\": LogisticRegression(max_iter=1000),\n",
        "    \"Random Forest\": RandomForestClassifier(),\n",
        "    \"Decision Tree\": DecisionTreeClassifier(),\n",
        "    \"XGBoost\": xgb.XGBClassifier(use_label_encoder=False, eval_metric='logloss')\n",
        "}"
      ],
      "metadata": {
        "id": "Y87DlO5rtzH3"
      },
      "execution_count": 42,
      "outputs": []
    },
    {
      "cell_type": "code",
      "source": [
        "results = []  # Initialize the list to store model results"
      ],
      "metadata": {
        "id": "tFFxrEGxuI55"
      },
      "execution_count": 43,
      "outputs": []
    },
    {
      "cell_type": "code",
      "source": [],
      "metadata": {
        "id": "ajn2wBsXu014"
      },
      "execution_count": 43,
      "outputs": []
    },
    {
      "cell_type": "code",
      "source": [
        "# Loop through and evaluate each model\n",
        "for name, model in models.items():\n",
        "    model.fit(X_train, y_train)\n",
        "    y_pred = model.predict(X_test)\n",
        "    y_proba = model.predict_proba(X_test)[:, 1] if hasattr(model, \"predict_proba\") else None\n",
        "\n",
        "    accuracy = accuracy_score(y_test, y_pred)\n",
        "    precision = precision_score(y_test, y_pred)\n",
        "    recall = recall_score(y_test, y_pred)\n",
        "    f1 = f1_score(y_test, y_pred)\n",
        "    roc_auc = roc_auc_score(y_test, y_proba) if y_proba is not None else None\n",
        "\n",
        "    results.append({\n",
        "        \"Model\": name,\n",
        "        \"Accuracy\": accuracy,\n",
        "        \"Precision\": precision,\n",
        "        \"Recall\": recall,\n",
        "        \"F1 Score\": f1,\n",
        "        \"ROC AUC\": roc_auc\n",
        "    })\n",
        "\n",
        "# Display Results\n",
        "results_df = pd.DataFrame(results).sort_values(by=\"F1 Score\", ascending=False)\n",
        "print(results_df)"
      ],
      "metadata": {
        "colab": {
          "base_uri": "https://localhost:8080/"
        },
        "outputId": "a85c5101-44db-4480-ca18-8b6f95081561",
        "id": "Of_gLo_Mu1ht"
      },
      "execution_count": 44,
      "outputs": [
        {
          "output_type": "stream",
          "name": "stderr",
          "text": [
            "/usr/local/lib/python3.11/dist-packages/xgboost/training.py:183: UserWarning: [16:00:22] WARNING: /workspace/src/learner.cc:738: \n",
            "Parameters: { \"use_label_encoder\" } are not used.\n",
            "\n",
            "  bst.update(dtrain, iteration=i, fobj=obj)\n"
          ]
        },
        {
          "output_type": "stream",
          "name": "stdout",
          "text": [
            "                 Model  Accuracy  Precision    Recall  F1 Score   ROC AUC\n",
            "2        Decision Tree  0.634702   0.345759  0.311057  0.327491  0.537395\n",
            "1        Random Forest  0.672365   0.378444  0.226974  0.283761  0.585173\n",
            "3              XGBoost  0.713710   0.495379  0.065128  0.115120  0.613237\n",
            "0  Logistic Regression  0.713501   0.409091  0.004374  0.008656  0.595719\n"
          ]
        }
      ]
    },
    {
      "cell_type": "markdown",
      "source": [
        "**Initial training results**\n",
        "\n",
        "There is higher **Accuracy** but very low **Recall** across the models.\n",
        "This means the models are not catching the no shows. Very Interesting scenario here like they assume \"Hopefully everyone will show up\" and wait.\n",
        "Technically, this is due to class imbalance because no show Class is only 20%. So the models predict the majority class by default."
      ],
      "metadata": {
        "id": "INxUMY04wTzv"
      }
    },
    {
      "cell_type": "markdown",
      "source": [
        "**Quick Fix: We Balance the dataset**\n",
        "\n",
        "Due to High Class imbalance (only ~20% of appointments were missed). Models results weren't satisfyng on the initiala training. To address this we use SMOTE(Synthetic Minority Oversampling Technique). We create Synthetic sample to balance the dataset.\n",
        "Technically this approach can help significantly improve the model’s ability to capture true no-show cases."
      ],
      "metadata": {
        "id": "xHqUqX5amfSg"
      }
    },
    {
      "cell_type": "code",
      "source": [
        "!pip install imbalanced-learn --quiet\n"
      ],
      "metadata": {
        "id": "uClmEoK3xK5_"
      },
      "execution_count": 45,
      "outputs": []
    },
    {
      "cell_type": "code",
      "source": [
        "from imblearn.over_sampling import SMOTE\n",
        "from sklearn.model_selection import train_test_split\n",
        "\n",
        "# Features & target\n",
        "X = data.drop('No-show', axis=1)\n",
        "y = data['No-show']\n",
        "\n",
        "# Apply SMOTE to balance the classes\n",
        "smote = SMOTE(random_state=42)\n",
        "X_resampled, y_resampled = smote.fit_resample(X, y)\n",
        "\n",
        "# Split resampled data\n",
        "X_train, X_test, y_train, y_test = train_test_split(\n",
        "    X_resampled, y_resampled, test_size=0.2, random_state=42)\n",
        "\n",
        "print(f\"Balanced training set: {X_train.shape}, Positive rate: {y_train.mean():.2f}\")\n"
      ],
      "metadata": {
        "colab": {
          "base_uri": "https://localhost:8080/"
        },
        "id": "r42CuqFVxMEl",
        "outputId": "9139f45d-41ae-4596-c5d4-9483024b4426"
      },
      "execution_count": 46,
      "outputs": [
        {
          "output_type": "stream",
          "name": "stdout",
          "text": [
            "Balanced training set: (82296, 88), Positive rate: 0.50\n"
          ]
        }
      ]
    },
    {
      "cell_type": "markdown",
      "source": [
        "**Explanation of the SMOTE strategy**\n",
        "\n",
        "1. We just imported SMOTE, this method creates more patients(Fake patients) for the minority class (No Show). It clones the realistic example of patients who never showed up to give it a fair share during training.\n",
        "\n",
        "2. We then separated again features ((age, gender, SMS, neighbourhood ) and target (no-show 0, show 1 )\n",
        "\n",
        "3. Apply SMOTE- SMOTE explores the real no show examples and recreates similar no-shows synthetically. And now both classes are balanced, this creates a balanced environment for our models , it fixes one class dominance issue.\n",
        "\n",
        "4. Then we train-test-split the data after fixing the imbalance problem.\n",
        "\n",
        "Then we print to confirm how big is the training set and the class proportion.\n",
        "And from the results, it is a positive rate 0.5. 50% of the training data has no-shows( No shows(0) = 50%, shows(1) =50%)\n",
        "\n",
        "Finally our models can Learn from eqaul number of show and no-show.\n"
      ],
      "metadata": {
        "id": "VF-6MYVfy36s"
      }
    },
    {
      "cell_type": "code",
      "source": [
        "import numpy as np\n",
        "\n",
        "# Copy the original data again to modify\n",
        "df_feat = data.copy()\n",
        "\n",
        "# Age bins (categorical feature — could also use one-hot)\n",
        "df_feat['Age_Group'] = pd.cut(df_feat['Age'], bins=[-1, 12, 18, 35, 60, 120],\n",
        "                               labels=['Child', 'Teen', 'YoungAdult', 'Adult', 'Senior'])\n",
        "\n",
        "# Total chronic conditions\n",
        "df_feat['Chronic_Count'] = df_feat[['Hipertension', 'Diabetes', 'Alcoholism']].sum(axis=1)\n",
        "\n",
        "# SMS interaction: people who received SMS and still missed\n",
        "# Could be helpful later for SHAP or interpretability\n",
        "df_feat['SMS+Miss'] = (df_feat['SMS_received'] == 1) & (df_feat['No-show'] == 1)\n",
        "\n",
        "# Encode Age_Group (Ordinal)\n",
        "df_feat['Age_Group_Code'] = df_feat['Age_Group'].map({\n",
        "    'Child': 0, 'Teen': 1, 'YoungAdult': 2, 'Adult': 3, 'Senior': 4\n",
        "})\n",
        "\n",
        "# Drop old columns we won't use anymore\n",
        "df_feat.drop(['Age_Group', 'SMS+Miss'], axis=1, inplace=True)\n"
      ],
      "metadata": {
        "id": "T2RweTO9xcKn"
      },
      "execution_count": 47,
      "outputs": []
    },
    {
      "cell_type": "markdown",
      "source": [
        "Feature Engineering\n",
        "in the above Cell we:\n",
        "\n",
        "1. We created a categorical feature called Age groups. Instead of using raw ages, we placed them into segments like child, teen, Adult etc. This can help models Learning and is also easy for interpretability.\n",
        "\n",
        "2. Combined the conditions into single scores. Adding up the number of Chronic conditions each patient has. Such that if it is 0 = healthy, 1 =single condition , 3 = triple threat.\n",
        "\n",
        "3. Created SMS+MISS feature to identify people who got SMS alert but still missed the appointment.Useful feature to asses If reminders really work.\n",
        "\n",
        "4. Now that we engineered age group feature, we encode them into numbers because that is what works well with Machine Learning Models.\n",
        "\n",
        "5. We drop these temporary columns to reduce redundancy: Age_Group dropped because we created Age_Group_Code and encoded, SMS+MISS because was created for insights."
      ],
      "metadata": {
        "id": "Y6LNohOqx8yq"
      }
    },
    {
      "cell_type": "markdown",
      "source": [
        "Step 4: Modeling — All Applicable Models"
      ],
      "metadata": {
        "id": "32TNmc8eyp-d"
      }
    },
    {
      "cell_type": "code",
      "source": [
        "# Define models\n",
        "# 2. Skip slow models (SVM, MLP, KNN)\n",
        "models = {\n",
        "    \"Logistic Regression\": LogisticRegression(max_iter=1000),\n",
        "    \"Random Forest\": RandomForestClassifier(),\n",
        "    \"Decision Tree\": DecisionTreeClassifier(),\n",
        "    \"XGBoost\": xgb.XGBClassifier(use_label_encoder=False, eval_metric='logloss')\n",
        "}"
      ],
      "metadata": {
        "id": "PVAj5lR4lnej"
      },
      "execution_count": 48,
      "outputs": []
    },
    {
      "cell_type": "markdown",
      "source": [
        "We defined the models we want to train."
      ],
      "metadata": {
        "id": "2GO6OwF3BY3A"
      }
    },
    {
      "cell_type": "code",
      "source": [
        "results = []  # Initialize the list to store model results"
      ],
      "metadata": {
        "id": "KBTFmjgl04oo"
      },
      "execution_count": 49,
      "outputs": []
    },
    {
      "cell_type": "markdown",
      "source": [
        "We Initialized Results\n",
        "\n"
      ],
      "metadata": {
        "id": "bFi93UoBBi3f"
      }
    },
    {
      "cell_type": "markdown",
      "source": [
        "4. Modelling (6 marks)\n",
        "\n",
        "\n",
        "•   Justify your choice of algorithm (e.g., logistic regression, decision trees, etc.).\n",
        "Model Selection\n",
        "\n",
        "\n",
        "\n",
        "1.   Logistic Regression- Good for Binary Classifications and it's simplicity.\n",
        "2.   Decision Tree - For clear decision logic, It is good for no-linear    patterns, and can andle both numerical and categorical data without scaling\n",
        "3. Random Forest- Robust in handling overfitting, can capture complex realtionships via multiple decisison trees and it's good in handling imbalanced features better than Decision Tree.\n",
        "4. XGBoost- Has high predictive power, incorporates attributes that reduces overfitting and efficiency on large datasets making it good for scalability.\n",
        "\n",
        "\n",
        "\n",
        "\n",
        "\n",
        "\n"
      ],
      "metadata": {
        "id": "8OZEy-YM0VBG"
      }
    },
    {
      "cell_type": "markdown",
      "source": [
        "In Summary\n",
        "\n",
        "The Models were Seleted based on:\n",
        "\n",
        "Data characteristics- (binary target, mix of feature types, class imbalance)\n",
        "\n",
        "Trade-offs- between accuracy, explainability, and runtime\n",
        "\n",
        "Literature precedent — many studies use logistic regression or ensemble trees for healthcare prediction tasks\n",
        "\n"
      ],
      "metadata": {
        "id": "GREIhd-251VY"
      }
    },
    {
      "cell_type": "markdown",
      "source": [
        "\n",
        "**Model Training**\n",
        "\n",
        "\n",
        "•   Train the model and evaluate it using both:\n",
        "\n",
        "•\tThreshold-based metrics (accuracy, precision, recall, F1-score\n",
        "\n",
        "•\tProbabilistic metrics (ROC-AUC)\n"
      ],
      "metadata": {
        "id": "6bsDD4KLVuhQ"
      }
    },
    {
      "cell_type": "code",
      "source": [
        "# Loop through and evaluate each model\n",
        "for name, model in models.items():\n",
        "    model.fit(X_train, y_train)\n",
        "    y_pred = model.predict(X_test)\n",
        "    y_proba = model.predict_proba(X_test)[:, 1] if hasattr(model, \"predict_proba\") else None\n",
        "\n",
        "    accuracy = accuracy_score(y_test, y_pred)\n",
        "    precision = precision_score(y_test, y_pred)\n",
        "    recall = recall_score(y_test, y_pred)\n",
        "    f1 = f1_score(y_test, y_pred)\n",
        "    roc_auc = roc_auc_score(y_test, y_proba) if y_proba is not None else None\n",
        "\n",
        "    results.append({\n",
        "        \"Model\": name,\n",
        "        \"Accuracy\": accuracy,\n",
        "        \"Precision\": precision,\n",
        "        \"Recall\": recall,\n",
        "        \"F1 Score\": f1,\n",
        "        \"ROC AUC\": roc_auc\n",
        "    })\n",
        "\n",
        "# Display Results\n",
        "results_df = pd.DataFrame(results).sort_values(by=\"F1 Score\", ascending=False)\n",
        "print(results_df)"
      ],
      "metadata": {
        "colab": {
          "base_uri": "https://localhost:8080/"
        },
        "id": "z7aw6AIBlww6",
        "outputId": "632bc7ce-ecb1-4413-a795-71d14294ecc5"
      },
      "execution_count": 50,
      "outputs": [
        {
          "output_type": "stream",
          "name": "stderr",
          "text": [
            "/usr/local/lib/python3.11/dist-packages/xgboost/training.py:183: UserWarning: [16:01:35] WARNING: /workspace/src/learner.cc:738: \n",
            "Parameters: { \"use_label_encoder\" } are not used.\n",
            "\n",
            "  bst.update(dtrain, iteration=i, fobj=obj)\n"
          ]
        },
        {
          "output_type": "stream",
          "name": "stdout",
          "text": [
            "                 Model  Accuracy  Precision    Recall  F1 Score   ROC AUC\n",
            "1        Random Forest  0.733790   0.731174  0.733679  0.732425  0.804477\n",
            "2        Decision Tree  0.735832   0.745180  0.711266  0.727828  0.738874\n",
            "3              XGBoost  0.719257   0.776629  0.610160  0.683403  0.790824\n",
            "0  Logistic Regression  0.580198   0.575656  0.588333  0.581926  0.608517\n"
          ]
        }
      ]
    },
    {
      "cell_type": "markdown",
      "source": [],
      "metadata": {
        "id": "MTttBhrZy5kS"
      }
    },
    {
      "cell_type": "markdown",
      "source": [],
      "metadata": {
        "id": "zAgp0XtMWfYX"
      }
    },
    {
      "cell_type": "code",
      "source": [
        "import matplotlib.pyplot as plt\n",
        "import seaborn as sns\n",
        "\n",
        "# Set plot style\n",
        "sns.set(style=\"whitegrid\")\n",
        "\n",
        "# Plot F1 Scores\n",
        "plt.figure(figsize=(10,6))\n",
        "sns.barplot(x=\"F1 Score\", y=\"Model\", data=results_df, palette=\"viridis\")\n",
        "plt.title(\"Model Comparison by F1 Score\")\n",
        "plt.xlabel(\"F1 Score\")\n",
        "plt.ylabel(\"Model\")\n",
        "plt.xlim(0, 1)\n",
        "plt.tight_layout()\n",
        "plt.show()\n",
        "\n",
        "# Plot ROC-AUC (if available)\n",
        "if results_df[\"ROC AUC\"].notnull().any():\n",
        "    plt.figure(figsize=(10,6))\n",
        "    sns.barplot(x=\"ROC AUC\", y=\"Model\", data=results_df, palette=\"magma\")\n",
        "    plt.title(\"Model Comparison by ROC AUC\")\n",
        "    plt.xlabel(\"ROC AUC\")\n",
        "    plt.ylabel(\"Model\")\n",
        "    plt.xlim(0, 1)\n",
        "    plt.tight_layout()\n",
        "    plt.show()\n",
        "else:\n",
        "    print(\"ROC AUC not available for all models.\")\n"
      ],
      "metadata": {
        "colab": {
          "base_uri": "https://localhost:8080/",
          "height": 1000
        },
        "id": "9TRfRD_W1ncK",
        "outputId": "157a7c0a-c3c1-4bf0-dbbf-488fd6d98af5"
      },
      "execution_count": 51,
      "outputs": [
        {
          "output_type": "stream",
          "name": "stderr",
          "text": [
            "/tmp/ipython-input-51-2602031930.py:9: FutureWarning: \n",
            "\n",
            "Passing `palette` without assigning `hue` is deprecated and will be removed in v0.14.0. Assign the `y` variable to `hue` and set `legend=False` for the same effect.\n",
            "\n",
            "  sns.barplot(x=\"F1 Score\", y=\"Model\", data=results_df, palette=\"viridis\")\n"
          ]
        },
        {
          "output_type": "display_data",
          "data": {
            "text/plain": [
              "<Figure size 1000x600 with 1 Axes>"
            ],
            "image/png": "[encoded data removed]"
          },
          "metadata": {}
        },
        {
          "output_type": "stream",
          "name": "stderr",
          "text": [
            "/tmp/ipython-input-51-2602031930.py:20: FutureWarning: \n",
            "\n",
            "Passing `palette` without assigning `hue` is deprecated and will be removed in v0.14.0. Assign the `y` variable to `hue` and set `legend=False` for the same effect.\n",
            "\n",
            "  sns.barplot(x=\"ROC AUC\", y=\"Model\", data=results_df, palette=\"magma\")\n"
          ]
        },
        {
          "output_type": "display_data",
          "data": {
            "text/plain": [
              "<Figure size 1000x600 with 1 Axes>"
            ],
            "image/png": "[encoded data removed]"
          },
          "metadata": {}
        }
      ]
    },
    {
      "cell_type": "markdown",
      "source": [
        "**Results Interpretation:**\n",
        "1. Random Forest Scored the overrall best performance of 0.73 F1 score and ROC-AUC of 0.80. This is a fair balance between accuracy prediction and generalization.\n",
        "2. XGBoost even though with slower recall, it had higher precision and ROC-AUC hence can be used critical scenario predictions such as autoscheduling.\n",
        "3. Logistic regression struggled due to complexity of the work. Besides it's interpretability, it is not recommended for deployment due to it's underwhelming performance.\n",
        "4. Decision Tree ha wll balanced performance though noiser due to lower  ROC-AUC.\n"
      ],
      "metadata": {
        "id": "PGM1UVea5hy9"
      }
    },
    {
      "cell_type": "markdown",
      "source": [
        "**Recommendation.**\n",
        "\n",
        "**Random Forest** is the best choice because it's precision and recall is balanced and it avoids overfitting. Excellent at handling balanced data."
      ],
      "metadata": {
        "id": "9Id4PhPR_c8S"
      }
    },
    {
      "cell_type": "code",
      "source": [],
      "metadata": {
        "id": "DNjXYwRhTJeM"
      },
      "execution_count": 51,
      "outputs": []
    },
    {
      "cell_type": "markdown",
      "source": [
        "\n",
        "\n"
      ],
      "metadata": {
        "id": "HPs6rZz-AO4r"
      }
    },
    {
      "cell_type": "code",
      "source": [
        "# Install requirements\n",
        "!pip install streamlit pyngrok --quiet\n"
      ],
      "metadata": {
        "id": "Zluy46rm8JF3",
        "colab": {
          "base_uri": "https://localhost:8080/"
        },
        "outputId": "cfd9c83b-3546-4652-e635-9aa175d08070"
      },
      "execution_count": 52,
      "outputs": [
        {
          "output_type": "stream",
          "name": "stdout",
          "text": [
            "\u001b[2K     \u001b[90m━━━━━━━━━━━━━━━━━━━━━━━━━━━━━━━━━━━━━━━━\u001b[0m \u001b[32m44.3/44.3 kB\u001b[0m \u001b[31m1.4 MB/s\u001b[0m eta \u001b[36m0:00:00\u001b[0m\n",
            "\u001b[2K   \u001b[90m━━━━━━━━━━━━━━━━━━━━━━━━━━━━━━━━━━━━━━━━\u001b[0m \u001b[32m9.9/9.9 MB\u001b[0m \u001b[31m51.9 MB/s\u001b[0m eta \u001b[36m0:00:00\u001b[0m\n",
            "\u001b[2K   \u001b[90m━━━━━━━━━━━━━━━━━━━━━━━━━━━━━━━━━━━━━━━━\u001b[0m \u001b[32m6.9/6.9 MB\u001b[0m \u001b[31m81.3 MB/s\u001b[0m eta \u001b[36m0:00:00\u001b[0m\n",
            "\u001b[2K   \u001b[90m━━━━━━━━━━━━━━━━━━━━━━━━━━━━━━━━━━━━━━━━\u001b[0m \u001b[32m79.1/79.1 kB\u001b[0m \u001b[31m3.8 MB/s\u001b[0m eta \u001b[36m0:00:00\u001b[0m\n",
            "\u001b[?25h"
          ]
        }
      ]
    },
    {
      "cell_type": "markdown",
      "source": [
        "**We Save The Best Model First.**\n",
        "\n",
        "**Random Forest**"
      ],
      "metadata": {
        "id": "j1pf5TQfYUfg"
      }
    },
    {
      "cell_type": "code",
      "source": [
        "import joblib\n",
        "\n",
        "best_model = models[\"Random Forest\"]\n",
        "joblib.dump(best_model, \"best_model_random_forest.pkl\")\n",
        "print(\"Model saved!\")\n",
        "\n",
        "# Save column order during training\n",
        "joblib.dump(X.columns.tolist(), \"feature_columns.pkl\")\n"
      ],
      "metadata": {
        "colab": {
          "base_uri": "https://localhost:8080/"
        },
        "id": "YwmVHUH3zdUC",
        "outputId": "d599ab00-7752-473f-e2f8-ef7472a3fd5c"
      },
      "execution_count": 53,
      "outputs": [
        {
          "output_type": "stream",
          "name": "stdout",
          "text": [
            "Model saved!\n"
          ]
        },
        {
          "output_type": "execute_result",
          "data": {
            "text/plain": [
              "['feature_columns.pkl']"
            ]
          },
          "metadata": {},
          "execution_count": 53
        }
      ]
    },
    {
      "cell_type": "markdown",
      "source": [
        "•   **Address model interpretability**.\n",
        "\n",
        "\n",
        "\n",
        "Healthcare is crucial sector that relies on interpretability for explainable transparent and trustworthy clinical information for the sake of crucial decision making. We considered this crucial aspect when selecting models with varying levels of interpretability.\n",
        "Logistic regression uses coefficients to provide full overview but it struggled here with accuracy and recall and failed to capture complex interactions.\n",
        "Decision Tree uses rule-based logic and they use flow diagrams for interpretability (For instance: If age < 18 and No SMS -> likely no show) Ideal for systems that involves Human-in-the-loop.\n",
        "Random Forest is more complex. It allows feature priority score-based interpretations. We visualized the predictive features to establish the factors that mostly influenced the no-show risk.\n"
      ],
      "metadata": {
        "id": "_19TDZryYlIZ"
      }
    },
    {
      "cell_type": "code",
      "source": [
        "import matplotlib.pyplot as plt\n",
        "import numpy as np\n",
        "\n",
        "importances = best_model.feature_importances_\n",
        "features = X.columns\n",
        "indices = np.argsort(importances)[-10:]\n",
        "\n",
        "plt.figure(figsize=(10, 6))\n",
        "plt.title(\"Top 10 Feature Importances (Random Forest)\")\n",
        "plt.barh(range(len(indices)), importances[indices], align=\"center\")\n",
        "plt.yticks(range(len(indices)), [features[i] for i in indices])\n",
        "plt.xlabel(\"Importance\")\n",
        "plt.tight_layout()\n",
        "plt.show()\n"
      ],
      "metadata": {
        "colab": {
          "base_uri": "https://localhost:8080/",
          "height": 601
        },
        "id": "cbj7L6cKYOXw",
        "outputId": "0b6d5a7d-5aff-41cb-ffa4-e0ece25f3b2e"
      },
      "execution_count": 54,
      "outputs": [
        {
          "output_type": "display_data",
          "data": {
            "text/plain": [
              "<Figure size 1000x600 with 1 Axes>"
            ],
            "image/png": "[encoded data removed]"
          },
          "metadata": {}
        }
      ]
    },
    {
      "cell_type": "markdown",
      "source": [
        "From the Visual obsrvation, the ranking shaows age as a top factor, waiting days as the second most influencing feature for patients not showing up.\n",
        "The list goes down to the very least feature."
      ],
      "metadata": {
        "id": "m0vGCMogZQTx"
      }
    },
    {
      "cell_type": "markdown",
      "source": [
        "**5. Evaluation (5 marks)**\n",
        "\n",
        "\n",
        "5a)•   Assess model performance on unseen data.\n",
        "We conducted model performance evaluation on test-set which is 20% of data that was held or not seen during training. The best model Random Forest achieved:\n",
        "73.4% Accuracy – 73.4% correct predictions, approximately 3 out of 4 patients.\n",
        "73.1% Recall – Meaning the model is able to catch 73% of no shows.\n",
        "81.3% ROC AUC – Strength at ranking probably no shows vs shows.\n",
        "These results show the model’s strength on generalizing unseen data.\n",
        "\n",
        "\n",
        "5b)•   Discuss any evidence of algorithmic bias and mitigation strategies.\n",
        "Our bias check identifies some features which might influence predictions unfairly, e.g Gender, Age and SMS. The algorithms may overfit to age or gender especially if one gender receives more reminders or SMS than the other.\n",
        "\n",
        "To mitigate this, we used SMOTE to balance classes, standardized numeric features into the same scale and employed tree-based models which evaluate and split fairly.\n",
        "\n"
      ],
      "metadata": {
        "id": "qx5wlfW4AGQU"
      }
    },
    {
      "cell_type": "markdown",
      "source": [
        "\n",
        "\n",
        "\n",
        "5c) **Perform error analysis and interpret the results.**"
      ],
      "metadata": {
        "id": "qbJo4CaLMxwO"
      }
    },
    {
      "cell_type": "code",
      "source": [
        "from sklearn.metrics import confusion_matrix, ConfusionMatrixDisplay\n",
        "\n",
        "# Get predictions\n",
        "y_pred = best_model.predict(X_test)\n",
        "\n",
        "# Confusion matrix\n",
        "cm = confusion_matrix(y_test, y_pred)\n",
        "disp = ConfusionMatrixDisplay(confusion_matrix=cm, display_labels=[\"Show\", \"No-show\"])\n",
        "\n",
        "# Plot it\n",
        "disp.plot(cmap=\"Blues\")\n",
        "plt.title(\"Confusion Matrix - Random Forest\")\n",
        "plt.show()\n"
      ],
      "metadata": {
        "colab": {
          "base_uri": "https://localhost:8080/",
          "height": 480
        },
        "id": "0B8FvJy2X-fA",
        "outputId": "076fad18-f50e-4b00-a234-d1a7af651653"
      },
      "execution_count": 55,
      "outputs": [
        {
          "output_type": "display_data",
          "data": {
            "text/plain": [
              "<Figure size 640x480 with 2 Axes>"
            ],
            "image/png": "[encoded data removed]"
          },
          "metadata": {}
        }
      ]
    },
    {
      "cell_type": "markdown",
      "source": [
        "\n",
        "7,601 patients who actually showed up were correctly predicted. (TN)\n",
        "\n",
        "\n",
        "7,462 no-shows were correctly identified — a solid win. (TP)\n",
        "\n",
        "\n",
        "⚠️ Errors\n",
        "2,755 false positives: Model wrongly predicted these patients would miss, but\n",
        "they came.\n",
        "\n",
        "\n",
        "2,756 false negatives: Model wrongly assumed these would come, but they missed — more concerning since the clinic loses time/resources.\n",
        "\n",
        "\n",
        "\tTrue Positives (TP) = 7462\n",
        "\n",
        "\tTrue Negatives (TN) = 7601\n",
        "\n",
        "\tFalse Positives (FP) = 2755\n",
        "\n",
        "\tFalse Negatives (FN) = 2756\n",
        "\n",
        "\tTotal samples = 7601 + 7462 + 2755 + 2756 = 20,574\n",
        "\n",
        "\n",
        "\n",
        "  Accuracy=  (TP+TN)/Total=   (7462+7601)/20574= 0.732 (73.2%)\n",
        "\n",
        "\n",
        " Precision =  TP/(TP+FP)=   7462/(7462+2755)= 0.73  (73%)\n",
        "\n",
        "\n",
        "Recall = TP/(TP+FN)=   7462/(7462+2756)= 0.73  (73%)\n"
      ],
      "metadata": {
        "id": "Md34SNnUASLw"
      }
    },
    {
      "cell_type": "markdown",
      "source": [
        "The Model achieves accuracy of 73% while balancing Precision and Recall. On the flipside, the model still misses about 1 in every 4 from either category, which is acceptable in modeling human behaviour, but can be improved through fine-tuning or improving features."
      ],
      "metadata": {
        "id": "D1braICrLilx"
      }
    },
    {
      "cell_type": "markdown",
      "source": [
        "\n",
        "\n",
        "**6. Deployment**\n",
        "\n"
      ],
      "metadata": {
        "id": "ByQX2WG6X1Pk"
      }
    },
    {
      "cell_type": "markdown",
      "source": [
        "At this point In the cell above:\n",
        "1. We first create an app script: \"%%writefile app.py\" Which specifies saving the file in app.py\n",
        "\n",
        "2. We then Imported the necessary libraries.\n",
        "\n",
        "3. Then we ssaved the trained model\n",
        "\n",
        "4. Build the app interface with the title then defined the user inputs.\n",
        "\n",
        "5. Converts the inputs categorical into numerical for the model\n",
        "\n",
        "6. Make prediction at the If statement\n",
        "\n",
        "\n",
        "\n",
        "\n",
        "\n"
      ],
      "metadata": {
        "id": "PfTXky16dypG"
      }
    },
    {
      "cell_type": "markdown",
      "source": [
        "\n",
        "\n",
        "**App.**\n",
        "\n",
        " Loading the model into Streamlit mini app file."
      ],
      "metadata": {
        "id": "itPvW-95gT0Z"
      }
    },
    {
      "cell_type": "code",
      "source": [
        "%%writefile app.py\n",
        "import streamlit as st\n",
        "import pandas as pd\n",
        "import joblib\n",
        "\n",
        "import joblib\n",
        "\n",
        "# Load the saved column structure from training\n",
        "feature_cols = joblib.load(\"feature_columns.pkl\")\n",
        "\n",
        "\n",
        "\n",
        "# 🚨 IMPORTANT: Load the pre-trained model (make sure the .pkl file is in same folder)\n",
        "model = joblib.load(\"best_model_random_forest.pkl\")\n",
        "\n",
        "st.title(\"📅 Patient No-Show Predictor\")\n",
        "\n",
        "st.write(\"Fill in the details below to predict if a patient will miss their appointment.\")\n",
        "\n",
        "# Manual input fields\n",
        "age = st.slider(\"Age\", 0, 100, 25)\n",
        "gender = st.selectbox(\"Gender\", [\"Male\", \"Female\"])\n",
        "hypertension = st.checkbox(\"Hypertension\")\n",
        "diabetes = st.checkbox(\"Diabetes\")\n",
        "alcoholism = st.checkbox(\"Alcoholism\")\n",
        "sms_received = st.selectbox(\"SMS Received?\", [\"No\", \"Yes\"])\n",
        "wait_days = st.slider(\"Days Until Appointment\", 0, 30, 3)\n",
        "\n",
        "# Encoding\n",
        "gender_code = 1 if gender == \"Male\" else 0\n",
        "sms_code = 1 if sms_received == \"Yes\" else 0\n",
        "\n",
        "# Construct input DataFrame (must match training features)\n",
        "input_data = pd.DataFrame({\n",
        "    'Age': [age],\n",
        "    'Gender': [gender_code],\n",
        "    'Hipertension': [int(hypertension)],\n",
        "    'Diabetes': [int(diabetes)],\n",
        "    'Alcoholism': [int(alcoholism)],\n",
        "    'SMS_received': [sms_code],\n",
        "    'Wait_Days': [wait_days]\n",
        "})\n",
        "\n",
        "# Reindex the user input to match the full structure\n",
        "input_data = input_data.reindex(columns=feature_cols, fill_value=0)\n",
        "# Prediction\n",
        "if st.button(\"Predict No-Show Risk\"):\n",
        "    prediction = model.predict(input_data)[0]\n",
        "    prob = model.predict_proba(input_data)[0][1]\n",
        "\n",
        "    if prediction == 1:\n",
        "        st.error(f\"🚫 Likely to MISS the appointment (Risk Score: {prob:.2f})\")\n",
        "    else:\n",
        "        st.success(f\"✅ Likely to SHOW UP (Confidence: {1 - prob:.2f})\")\n"
      ],
      "metadata": {
        "colab": {
          "base_uri": "https://localhost:8080/"
        },
        "id": "FCub4ZMsefGw",
        "outputId": "5d5cacdd-7bde-4d75-b175-c58d90cf76f2"
      },
      "execution_count": 56,
      "outputs": [
        {
          "output_type": "stream",
          "name": "stdout",
          "text": [
            "Writing app.py\n"
          ]
        }
      ]
    },
    {
      "cell_type": "code",
      "source": [
        "!ngrok config add-authtoken 3015SFXBSQpqzMFgLeBONivTmlv_7u7BiWBrgubDkrWes3GeB"
      ],
      "metadata": {
        "colab": {
          "base_uri": "https://localhost:8080/"
        },
        "id": "Acly4CnI_zm9",
        "outputId": "e9d8ab82-6b20-48c9-8386-f84013f54cf5"
      },
      "execution_count": 57,
      "outputs": [
        {
          "output_type": "stream",
          "name": "stdout",
          "text": [
            "Authtoken saved to configuration file: /root/.config/ngrok/ngrok.yml\n"
          ]
        }
      ]
    },
    {
      "cell_type": "code",
      "source": [
        "from pyngrok import ngrok\n",
        "public_url = ngrok.connect(8501)\n",
        "print(\"Access your Streamlit app at:\", public_url)\n",
        "\n",
        "#Run the App\n",
        "!streamlit run app.py &\n"
      ],
      "metadata": {
        "colab": {
          "base_uri": "https://localhost:8080/"
        },
        "id": "S2b-gvGG8Zdw",
        "outputId": "5232ca2f-60e0-495d-8f5e-7ebecb22cbb6"
      },
      "execution_count": null,
      "outputs": [
        {
          "metadata": {
            "tags": null
          },
          "name": "stdout",
          "output_type": "stream",
          "text": [
            "Access your Streamlit app at: NgrokTunnel: \"https://1050dba8674f.ngrok-free.app\" -> \"http://localhost:8501\"\n",
            "\n",
            "Collecting usage statistics. To deactivate, set browser.gatherUsageStats to false.\n",
            "\u001b[0m\n",
            "\u001b[0m\n",
            "\u001b[34m\u001b[1m  You can now view your Streamlit app in your browser.\u001b[0m\n",
            "\u001b[0m\n",
            "\u001b[34m  Local URL: \u001b[0m\u001b[1mhttp://localhost:8501\u001b[0m\n",
            "\u001b[34m  Network URL: \u001b[0m\u001b[1mhttp://172.28.0.12:8501\u001b[0m\n",
            "\u001b[34m  External URL: \u001b[0m\u001b[1mhttp://35.231.22.171:8501\u001b[0m\n",
            "\u001b[0m\n"
          ]
        }
      ]
    },
    {
      "cell_type": "markdown",
      "source": [
        "Mini app of the model on ngrok\n",
        "![model prediction.PNG](data:image/png;base64,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)![Model Prediction2.PNG](data:image/png;base64,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)"
      ],
      "metadata": {
        "id": "acCMLurOpe2-"
      }
    }
  ]
}